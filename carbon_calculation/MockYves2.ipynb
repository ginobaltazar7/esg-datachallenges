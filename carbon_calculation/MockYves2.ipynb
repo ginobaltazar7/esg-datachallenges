{
 "cells": [
  {
   "cell_type": "markdown",
   "metadata": {
    "id": "wC9SdPBV87ky"
   },
   "source": [
    "# Challenge 2\n",
    "##### A short series of python scripts to implement a calculator for  Adjusted CO2 Total emissions for a company from a given data.json"
   ]
  },
  {
   "cell_type": "markdown",
   "metadata": {
    "id": "YU038UsFG2U8"
   },
   "source": [
    "# Enums for constants\n",
    "\n",
    "Step 1.\n",
    "\n",
    "Define Enum for formula constants, to avoid hardcoding. In practice these may be saved into a database and invoked from there as well. \n",
    "\n",
    "This examples attempts multiple runs using different values. "
   ]
  },
  {
   "cell_type": "code",
   "execution_count": 249,
   "metadata": {
    "id": "4-kGykQRvEUU"
   },
   "outputs": [],
   "source": [
    "# \n",
    "\"\"\"\n",
    "Enum class allowing constants mu_purch, mu_max_purch, phi_prod to be adjusted for a given run \n",
    "meaning that they would be the same for each company, but can be edited in between runs.\n",
    "\n",
    "The cversion and cauthor fields are annotations \n",
    "for version control e.g. as diffs are submitted between versions. \n",
    "\n",
    "This can be also materialized using a database table in a prod environment.\n",
    "\"\"\"\n",
    "# \n",
    "from enum import Enum\n",
    "class Carbonconstants (Enum):\n",
    "  RUN1 = (0.5, 0.8, 0.05, '1.1', 'Employee 1')\n",
    "  RUN2 = (0.5, 0.8, 0.06, '1.2', 'Employee 1')\n",
    "  RUN3 = (0.6, 0.8, 0.05, '1.3', 'Employee 1')\n",
    "  RUN4 = (0.5, 0.81, 0.05, '1.3', 'Employee 1')\n",
    "  def __init__ (self, mu_purch, mu_max_purch, phi_prod, cversion, cauthor):\n",
    "    self.mu_purch = mu_purch\n",
    "    self.mu_max_purch = mu_max_purch\n",
    "    self.phi_prod = phi_prod\n",
    "    self.cversion = cversion\n",
    "    self.cauthor = cauthor\n",
    "\n"
   ]
  },
  {
   "cell_type": "code",
   "execution_count": 2,
   "metadata": {
    "colab": {
     "base_uri": "https://localhost:8080/"
    },
    "id": "MCAaGuvYFX2N",
    "outputId": "ad9641a6-6171-4d3c-9698-c143a7974b60"
   },
   "outputs": [
    {
     "data": {
      "text/plain": [
       "<Carbonconstants.RUN1: (0.5, 0.8, 0.05, '1.1', 'Employee 1')>"
      ]
     },
     "execution_count": 2,
     "metadata": {},
     "output_type": "execute_result"
    }
   ],
   "source": [
    "Carbonconstants.RUN1"
   ]
  },
  {
   "cell_type": "code",
   "execution_count": 3,
   "metadata": {
    "colab": {
     "base_uri": "https://localhost:8080/"
    },
    "id": "aja2wRgsFb3Q",
    "outputId": "cce067ae-7efb-4af9-f11b-4b168b4a0773"
   },
   "outputs": [
    {
     "data": {
      "text/plain": [
       "0.5"
      ]
     },
     "execution_count": 3,
     "metadata": {},
     "output_type": "execute_result"
    }
   ],
   "source": [
    "Carbonconstants.RUN1.mu_purch"
   ]
  },
  {
   "cell_type": "code",
   "execution_count": 4,
   "metadata": {
    "id": "8qrvummM83a-"
   },
   "outputs": [],
   "source": [
    "assert Carbonconstants.RUN1.mu_purch == 0.5\n"
   ]
  },
  {
   "cell_type": "code",
   "execution_count": 5,
   "metadata": {
    "colab": {
     "base_uri": "https://localhost:8080/"
    },
    "id": "H-hJ5mgxCVsf",
    "outputId": "ae487330-e1ed-412a-b93e-18572944c5a7"
   },
   "outputs": [
    {
     "data": {
      "text/plain": [
       "float"
      ]
     },
     "execution_count": 5,
     "metadata": {},
     "output_type": "execute_result"
    }
   ],
   "source": [
    "type(Carbonconstants.RUN1.mu_max_purch)"
   ]
  },
  {
   "cell_type": "markdown",
   "metadata": {
    "id": "huxn_sZqLm0K"
   },
   "source": [
    "##### Step 2.\n",
    "\n",
    "Read the data and perform some cleanup\n"
   ]
  },
  {
   "cell_type": "code",
   "execution_count": 176,
   "metadata": {
    "id": "6o-LfOZ-Lshb"
   },
   "outputs": [],
   "source": [
    "import json, re"
   ]
  },
  {
   "cell_type": "code",
   "execution_count": 177,
   "metadata": {
    "id": "y3r-VLCXTBH9"
   },
   "outputs": [],
   "source": [
    "RE_TRAILING_COMMA = re.compile(r',(?=\\s*?[\\}\\]])')"
   ]
  },
  {
   "cell_type": "code",
   "execution_count": 178,
   "metadata": {
    "id": "b56p4baTQuLk"
   },
   "outputs": [],
   "source": [
    "with open(\"data.json\", \"r\") as read_content:\n",
    "  data = RE_TRAILING_COMMA.sub('', read_content.read())"
   ]
  },
  {
   "cell_type": "code",
   "execution_count": 179,
   "metadata": {
    "colab": {
     "base_uri": "https://localhost:8080/",
     "height": 143
    },
    "id": "v1xUWaqbSq0o",
    "outputId": "d526f581-5c26-463f-ac27-dd58cb9cce29"
   },
   "outputs": [
    {
     "data": {
      "application/vnd.google.colaboratory.intrinsic+json": {
       "type": "string"
      },
      "text/plain": [
       "'[\\n  {\\n    \"ISIN\": \"US0000000000\",\\n    \"Total Energy Use\": 7000000,\\n    \"Total CO2 Equivalents Emissions\": 94972.49198,\\n    \"Renewable Energy Purchased\": 10576.00479,\\n    \"Renewable Energy Produced\": 96652.16115,\\n    \"Carbon Credit Value\": 8171.323352\\n  },\\n  {\\n    \"ISIN\": \"US0000000001\",\\n    \"Total Energy Use\": 80000000,\\n    \"Total CO2 Equivalents Emissions\": 306900.6192,\\n    \"Renewable Energy Purchased\": 31961.79405,\\n    \"Renewable Energy Produced\": 38372.1921\\n  },\\n  {\\n    \"ISIN\": \"US0000000002\",\\n    \"Total Energy Use\": 153000000,\\n    \"Total CO2 Equivalents Emissions\": 171320.1651,\\n    \"Renewable Energy Purchased\": 62884.91047,\\n    \"Renewable Energy Produced\": 10689.83474,\\n    \"Carbon Credit Value\": 84303.7259\\n  },\\n  {\\n    \"ISIN\": \"US0000000003\",\\n    \"Total Energy Use\": 226000000,\\n    \"Total CO2 Equivalents Emissions\": 2250.272892,\\n    \"Renewable Energy Purchased\": 12949.74785,\\n    \"Renewable Energy Produced\": null,\\n    \"Carbon Credit Value\": null\\n  },\\n  {\\n    \"ISIN\": \"US0000000004\",\\n    \"Total Energy Use\": 299000000,\\n    \"Total CO2 Equivalents Emissions\": 132696.7376,\\n    \"Renewable Energy Purchased\": 42559.65263,\\n    \"Renewable Energy Produced\": 69567.95366,\\n    \"Carbon Credit Value\": 17515.5\\n  },\\n  {\\n    \"ISIN\": \"US0000000005\",\\n    \"Total Energy Use\": 0,\\n    \"Total CO2 Equivalents Emissions\": 204269.3867,\\n    \"Renewable Energy Purchased\": 9991.766644,\\n    \"Renewable Energy Produced\": 55829.34503,\\n    \"Carbon Credit Value\": 26647.856\\n  },\\n  {\\n    \"ISIN\": \"US0000000006\",\\n    \"Total Energy Use\": 445000000,\\n    \"Total CO2 Equivalents Emissions\": 64963.62994,\\n    \"Renewable Energy Purchased\": 9515.906056,\\n    \"Renewable Energy Produced\": 24720.73308,\\n    \"Carbon Credit Value\": 10556.11359,\\n    \"CO2 Analytic\": 53170.89797\\n  },\\n  {\\n    \"ISIN\": \"US0000000007\",\\n    \"Total Energy Use\": 518000000,\\n    \"Total CO2 Equivalents Emissions\": 89288.41927,\\n    \"Renewable Energy Purchased\": 32904.92748,\\n    \"Renewable Energy Produced\": 4051.865565,\\n    \"Carbon Credit Value\": 8902.593156,\\n    \"CO2 Analytic\": 80180.67966\\n  },\\n  {\\n    \"ISIN\": \"US0000000008\",\\n    \"Total Energy Use\": 591000000,\\n    \"Total CO2 Equivalents Emissions\": 59887.44837,\\n    \"Renewable Energy Purchased\": 4408.314004,\\n    \"Renewable Energy Produced\": 31232.14481,\\n    \"Carbon Credit Value\": 8838.602818\\n  },\\n  {\\n    \"ISIN\": \"US0000000009\",\\n    \"Total Energy Use\": 664000000,\\n    \"Total CO2 Equivalents Emissions\": 270793.8773,\\n    \"Renewable Energy Purchased\": 6147.617183,\\n    \"Renewable Energy Produced\": 9418.298827,\\n    \"Carbon Credit Value\": 2135.478871\\n  },\\n  {\\n    \"ISIN\": \"US0000000010\",\\n    \"Total Energy Use\": 737000000,\\n    \"Total CO2 Equivalents Emissions\": 436123.8946,\\n    \"Renewable Energy Purchased\": 61287.84832,\\n    \"Renewable Energy Produced\": 9800.114222,\\n    \"Carbon Credit Value\": 45901.30643\\n  },\\n  {\\n    \"ISIN\": \"US0000000011\",\\n    \"Total Energy Use\": 810000000,\\n    \"Total CO2 Equivalents Emissions\": 219384.6241,\\n    \"Renewable Energy Purchased\": 18766.81362,\\n    \"Renewable Energy Produced\": 13746.23147,\\n    \"Carbon Credit Value\": 47047.32813,\\n    \"CO2 Analytic\": 171647.988\\n  },\\n  {\\n    \"ISIN\": \"US0000000012\",\\n    \"Total Energy Use\": 883000000,\\n    \"Total CO2 Equivalents Emissions\": 907965.0176,\\n    \"Renewable Energy Purchased\": 11742.15742,\\n    \"Renewable Energy Produced\": 15078.18917,\\n    \"Carbon Credit Value\": 3432.989027\\n  },\\n  {\\n    \"ISIN\": \"US0000000013\",\\n    \"Total Energy Use\": 956000000,\\n    \"Total CO2 Equivalents Emissions\": 63194.4312,\\n    \"Renewable Energy Purchased\": 76353.30911,\\n    \"Renewable Energy Produced\": 49.54423131,\\n    \"Carbon Credit Value\": 6784.725662\\n  },\\n  {\\n    \"ISIN\": \"US0000000014\",\\n    \"Total Energy Use\": 1029000000,\\n    \"Total CO2 Equivalents Emissions\": 58244.40199,\\n    \"Renewable Energy Purchased\": 898.2632691,\\n    \"Renewable Energy Produced\": 903570.7574,\\n    \"Carbon Credit Value\": 2965.056586\\n  },\\n  {\\n    \"ISIN\": \"US0000000015\",\\n    \"Total Energy Use\": 1102000000,\\n    \"Total CO2 Equivalents Emissions\": 9657.810784,\\n    \"Carbon Credit Value\": 83257.80621\\n  },\\n  {\\n    \"ISIN\": \"US0000000016\",\\n    \"Total Energy Use\": 1175000000,\\n    \"Total CO2 Equivalents Emissions\": 8939.83813,\\n    \"Renewable Energy Purchased\": 10044.20882,\\n    \"Renewable Energy Produced\": 3664.637195,\\n    \"Carbon Credit Value\": 7357.74964\\n  },\\n  {\\n    \"ISIN\": \"US0000000017\",\\n    \"Total Energy Use\": 1248000000,\\n    \"Total CO2 Equivalents Emissions\": 294541.4886,\\n    \"Renewable Energy Purchased\": 29398.99459,\\n    \"Renewable Energy Produced\": 28384.09547,\\n    \"Carbon Credit Value\": 31341.08653\\n  },\\n  {\\n    \"ISIN\": \"US0000000018\",\\n    \"Total Energy Use\": 1321000000,\\n    \"Total CO2 Equivalents Emissions\": 617044.557,\\n    \"Renewable Energy Purchased\": 15389.82384,\\n    \"Renewable Energy Produced\": 6266.641717,\\n    \"Carbon Credit Value\": 8289.310471\\n  },\\n  {\\n    \"ISIN\": \"US0000000019\",\\n    \"Total Energy Use\": 1394000000,\\n    \"Total CO2 Equivalents Emissions\": 683013.3757,\\n    \"Renewable Energy Purchased\": \"Inconclusive\",\\n    \"Renewable Energy Produced\": 3177.824916,\\n    \"Carbon Credit Value\": 9323.29235\\n  }\\n]\\n'"
      ]
     },
     "execution_count": 179,
     "metadata": {},
     "output_type": "execute_result"
    }
   ],
   "source": [
    "data"
   ]
  },
  {
   "cell_type": "code",
   "execution_count": 181,
   "metadata": {
    "id": "v5Lzv-14Udkn"
   },
   "outputs": [],
   "source": [
    "carbondata=json.loads(data)"
   ]
  },
  {
   "cell_type": "code",
   "execution_count": 182,
   "metadata": {
    "colab": {
     "base_uri": "https://localhost:8080/"
    },
    "id": "7TpKks4jZPrW",
    "outputId": "148282d3-933a-46d3-ce9c-350594cf4cbd"
   },
   "outputs": [
    {
     "data": {
      "text/plain": [
       "{'ISIN': 'US0000000000',\n",
       " 'Total Energy Use': 7000000,\n",
       " 'Total CO2 Equivalents Emissions': 94972.49198,\n",
       " 'Renewable Energy Purchased': 10576.00479,\n",
       " 'Renewable Energy Produced': 96652.16115,\n",
       " 'Carbon Credit Value': 8171.323352}"
      ]
     },
     "execution_count": 182,
     "metadata": {},
     "output_type": "execute_result"
    }
   ],
   "source": [
    "carbondata[0]"
   ]
  },
  {
   "cell_type": "code",
   "execution_count": 183,
   "metadata": {
    "id": "-dwf9E6xVgSv"
   },
   "outputs": [],
   "source": [
    "def removew(d):\n",
    "    clean_d = {k.replace(' ', '_'):v for k, v in d.items()}\n",
    "    return clean_d"
   ]
  },
  {
   "cell_type": "markdown",
   "metadata": {
    "id": "TSrOAbO5-LWg"
   },
   "source": [
    "##### For each item in list \n",
    "\n",
    "Run the removew function to replace white spaces with underscores - to align them with a dict we will be building\n",
    "\n",
    "\n",
    "\n"
   ]
  },
  {
   "cell_type": "code",
   "execution_count": 187,
   "metadata": {
    "id": "HANQfJAlZkIe"
   },
   "outputs": [],
   "source": [
    "carbondata = [removew(s) for s in carbondata]"
   ]
  },
  {
   "cell_type": "code",
   "execution_count": 202,
   "metadata": {
    "colab": {
     "base_uri": "https://localhost:8080/"
    },
    "id": "bIBMLn1ZahvK",
    "outputId": "6bc345ee-6684-41e7-ed3e-0a3ab2ea7fcf"
   },
   "outputs": [
    {
     "data": {
      "text/plain": [
       "[{'ISIN': 'US0000000000',\n",
       "  'Total_Energy_Use': 7000000,\n",
       "  'Total_CO2_Equivalents_Emissions': 94972.49198,\n",
       "  'Renewable_Energy_Purchased': 10576.00479,\n",
       "  'Renewable_Energy_Produced': 96652.16115,\n",
       "  'Carbon_Credit_Value': 8171.323352},\n",
       " {'ISIN': 'US0000000001',\n",
       "  'Total_Energy_Use': 80000000,\n",
       "  'Total_CO2_Equivalents_Emissions': 306900.6192,\n",
       "  'Renewable_Energy_Purchased': 31961.79405,\n",
       "  'Renewable_Energy_Produced': 38372.1921},\n",
       " {'ISIN': 'US0000000002',\n",
       "  'Total_Energy_Use': 153000000,\n",
       "  'Total_CO2_Equivalents_Emissions': 171320.1651,\n",
       "  'Renewable_Energy_Purchased': 62884.91047,\n",
       "  'Renewable_Energy_Produced': 10689.83474,\n",
       "  'Carbon_Credit_Value': 84303.7259},\n",
       " {'ISIN': 'US0000000003',\n",
       "  'Total_Energy_Use': 226000000,\n",
       "  'Total_CO2_Equivalents_Emissions': 2250.272892,\n",
       "  'Renewable_Energy_Purchased': 12949.74785,\n",
       "  'Renewable_Energy_Produced': None,\n",
       "  'Carbon_Credit_Value': None},\n",
       " {'ISIN': 'US0000000004',\n",
       "  'Total_Energy_Use': 299000000,\n",
       "  'Total_CO2_Equivalents_Emissions': 132696.7376,\n",
       "  'Renewable_Energy_Purchased': 42559.65263,\n",
       "  'Renewable_Energy_Produced': 69567.95366,\n",
       "  'Carbon_Credit_Value': 17515.5},\n",
       " {'ISIN': 'US0000000005',\n",
       "  'Total_Energy_Use': 0,\n",
       "  'Total_CO2_Equivalents_Emissions': 204269.3867,\n",
       "  'Renewable_Energy_Purchased': 9991.766644,\n",
       "  'Renewable_Energy_Produced': 55829.34503,\n",
       "  'Carbon_Credit_Value': 26647.856},\n",
       " {'ISIN': 'US0000000006',\n",
       "  'Total_Energy_Use': 445000000,\n",
       "  'Total_CO2_Equivalents_Emissions': 64963.62994,\n",
       "  'Renewable_Energy_Purchased': 9515.906056,\n",
       "  'Renewable_Energy_Produced': 24720.73308,\n",
       "  'Carbon_Credit_Value': 10556.11359,\n",
       "  'CO2_Analytic': 53170.89797},\n",
       " {'ISIN': 'US0000000007',\n",
       "  'Total_Energy_Use': 518000000,\n",
       "  'Total_CO2_Equivalents_Emissions': 89288.41927,\n",
       "  'Renewable_Energy_Purchased': 32904.92748,\n",
       "  'Renewable_Energy_Produced': 4051.865565,\n",
       "  'Carbon_Credit_Value': 8902.593156,\n",
       "  'CO2_Analytic': 80180.67966},\n",
       " {'ISIN': 'US0000000008',\n",
       "  'Total_Energy_Use': 591000000,\n",
       "  'Total_CO2_Equivalents_Emissions': 59887.44837,\n",
       "  'Renewable_Energy_Purchased': 4408.314004,\n",
       "  'Renewable_Energy_Produced': 31232.14481,\n",
       "  'Carbon_Credit_Value': 8838.602818},\n",
       " {'ISIN': 'US0000000009',\n",
       "  'Total_Energy_Use': 664000000,\n",
       "  'Total_CO2_Equivalents_Emissions': 270793.8773,\n",
       "  'Renewable_Energy_Purchased': 6147.617183,\n",
       "  'Renewable_Energy_Produced': 9418.298827,\n",
       "  'Carbon_Credit_Value': 2135.478871},\n",
       " {'ISIN': 'US0000000010',\n",
       "  'Total_Energy_Use': 737000000,\n",
       "  'Total_CO2_Equivalents_Emissions': 436123.8946,\n",
       "  'Renewable_Energy_Purchased': 61287.84832,\n",
       "  'Renewable_Energy_Produced': 9800.114222,\n",
       "  'Carbon_Credit_Value': 45901.30643},\n",
       " {'ISIN': 'US0000000011',\n",
       "  'Total_Energy_Use': 810000000,\n",
       "  'Total_CO2_Equivalents_Emissions': 219384.6241,\n",
       "  'Renewable_Energy_Purchased': 18766.81362,\n",
       "  'Renewable_Energy_Produced': 13746.23147,\n",
       "  'Carbon_Credit_Value': 47047.32813,\n",
       "  'CO2_Analytic': 171647.988},\n",
       " {'ISIN': 'US0000000012',\n",
       "  'Total_Energy_Use': 883000000,\n",
       "  'Total_CO2_Equivalents_Emissions': 907965.0176,\n",
       "  'Renewable_Energy_Purchased': 11742.15742,\n",
       "  'Renewable_Energy_Produced': 15078.18917,\n",
       "  'Carbon_Credit_Value': 3432.989027},\n",
       " {'ISIN': 'US0000000013',\n",
       "  'Total_Energy_Use': 956000000,\n",
       "  'Total_CO2_Equivalents_Emissions': 63194.4312,\n",
       "  'Renewable_Energy_Purchased': 76353.30911,\n",
       "  'Renewable_Energy_Produced': 49.54423131,\n",
       "  'Carbon_Credit_Value': 6784.725662},\n",
       " {'ISIN': 'US0000000014',\n",
       "  'Total_Energy_Use': 1029000000,\n",
       "  'Total_CO2_Equivalents_Emissions': 58244.40199,\n",
       "  'Renewable_Energy_Purchased': 898.2632691,\n",
       "  'Renewable_Energy_Produced': 903570.7574,\n",
       "  'Carbon_Credit_Value': 2965.056586},\n",
       " {'ISIN': 'US0000000015',\n",
       "  'Total_Energy_Use': 1102000000,\n",
       "  'Total_CO2_Equivalents_Emissions': 9657.810784,\n",
       "  'Carbon_Credit_Value': 83257.80621},\n",
       " {'ISIN': 'US0000000016',\n",
       "  'Total_Energy_Use': 1175000000,\n",
       "  'Total_CO2_Equivalents_Emissions': 8939.83813,\n",
       "  'Renewable_Energy_Purchased': 10044.20882,\n",
       "  'Renewable_Energy_Produced': 3664.637195,\n",
       "  'Carbon_Credit_Value': 7357.74964},\n",
       " {'ISIN': 'US0000000017',\n",
       "  'Total_Energy_Use': 1248000000,\n",
       "  'Total_CO2_Equivalents_Emissions': 294541.4886,\n",
       "  'Renewable_Energy_Purchased': 29398.99459,\n",
       "  'Renewable_Energy_Produced': 28384.09547,\n",
       "  'Carbon_Credit_Value': 31341.08653},\n",
       " {'ISIN': 'US0000000018',\n",
       "  'Total_Energy_Use': 1321000000,\n",
       "  'Total_CO2_Equivalents_Emissions': 617044.557,\n",
       "  'Renewable_Energy_Purchased': 15389.82384,\n",
       "  'Renewable_Energy_Produced': 6266.641717,\n",
       "  'Carbon_Credit_Value': 8289.310471},\n",
       " {'ISIN': 'US0000000019',\n",
       "  'Total_Energy_Use': 1394000000,\n",
       "  'Total_CO2_Equivalents_Emissions': 683013.3757,\n",
       "  'Renewable_Energy_Purchased': 'Inconclusive',\n",
       "  'Renewable_Energy_Produced': 3177.824916,\n",
       "  'Carbon_Credit_Value': 9323.29235}]"
      ]
     },
     "execution_count": 202,
     "metadata": {},
     "output_type": "execute_result"
    }
   ],
   "source": [
    "carbondata"
   ]
  },
  {
   "cell_type": "code",
   "execution_count": 201,
   "metadata": {
    "colab": {
     "base_uri": "https://localhost:8080/",
     "height": 741
    },
    "id": "gPaeM4Xfacmx",
    "outputId": "d4d46f5c-631d-406e-83a0-2bf3254c8437"
   },
   "outputs": [
    {
     "data": {
      "text/html": [
       "\n",
       "  <div id=\"df-083b7887-6ba4-4a3d-bcc9-0c79876be593\">\n",
       "    <div class=\"colab-df-container\">\n",
       "      <div>\n",
       "<style scoped>\n",
       "    .dataframe tbody tr th:only-of-type {\n",
       "        vertical-align: middle;\n",
       "    }\n",
       "\n",
       "    .dataframe tbody tr th {\n",
       "        vertical-align: top;\n",
       "    }\n",
       "\n",
       "    .dataframe thead th {\n",
       "        text-align: right;\n",
       "    }\n",
       "</style>\n",
       "<table border=\"1\" class=\"dataframe\">\n",
       "  <thead>\n",
       "    <tr style=\"text-align: right;\">\n",
       "      <th></th>\n",
       "      <th>ISIN</th>\n",
       "      <th>Total_Energy_Use</th>\n",
       "      <th>Total_CO2_Equivalents_Emissions</th>\n",
       "      <th>Renewable_Energy_Purchased</th>\n",
       "      <th>Renewable_Energy_Produced</th>\n",
       "      <th>Carbon_Credit_Value</th>\n",
       "      <th>CO2_Analytic</th>\n",
       "    </tr>\n",
       "  </thead>\n",
       "  <tbody>\n",
       "    <tr>\n",
       "      <th>0</th>\n",
       "      <td>US0000000000</td>\n",
       "      <td>7000000</td>\n",
       "      <td>94972.491980</td>\n",
       "      <td>10576.00479</td>\n",
       "      <td>96652.161150</td>\n",
       "      <td>8171.323352</td>\n",
       "      <td>NaN</td>\n",
       "    </tr>\n",
       "    <tr>\n",
       "      <th>1</th>\n",
       "      <td>US0000000001</td>\n",
       "      <td>80000000</td>\n",
       "      <td>306900.619200</td>\n",
       "      <td>31961.79405</td>\n",
       "      <td>38372.192100</td>\n",
       "      <td>NaN</td>\n",
       "      <td>NaN</td>\n",
       "    </tr>\n",
       "    <tr>\n",
       "      <th>2</th>\n",
       "      <td>US0000000002</td>\n",
       "      <td>153000000</td>\n",
       "      <td>171320.165100</td>\n",
       "      <td>62884.91047</td>\n",
       "      <td>10689.834740</td>\n",
       "      <td>84303.725900</td>\n",
       "      <td>NaN</td>\n",
       "    </tr>\n",
       "    <tr>\n",
       "      <th>3</th>\n",
       "      <td>US0000000003</td>\n",
       "      <td>226000000</td>\n",
       "      <td>2250.272892</td>\n",
       "      <td>12949.74785</td>\n",
       "      <td>NaN</td>\n",
       "      <td>NaN</td>\n",
       "      <td>NaN</td>\n",
       "    </tr>\n",
       "    <tr>\n",
       "      <th>4</th>\n",
       "      <td>US0000000004</td>\n",
       "      <td>299000000</td>\n",
       "      <td>132696.737600</td>\n",
       "      <td>42559.65263</td>\n",
       "      <td>69567.953660</td>\n",
       "      <td>17515.500000</td>\n",
       "      <td>NaN</td>\n",
       "    </tr>\n",
       "    <tr>\n",
       "      <th>5</th>\n",
       "      <td>US0000000005</td>\n",
       "      <td>0</td>\n",
       "      <td>204269.386700</td>\n",
       "      <td>9991.766644</td>\n",
       "      <td>55829.345030</td>\n",
       "      <td>26647.856000</td>\n",
       "      <td>NaN</td>\n",
       "    </tr>\n",
       "    <tr>\n",
       "      <th>6</th>\n",
       "      <td>US0000000006</td>\n",
       "      <td>445000000</td>\n",
       "      <td>64963.629940</td>\n",
       "      <td>9515.906056</td>\n",
       "      <td>24720.733080</td>\n",
       "      <td>10556.113590</td>\n",
       "      <td>53170.89797</td>\n",
       "    </tr>\n",
       "    <tr>\n",
       "      <th>7</th>\n",
       "      <td>US0000000007</td>\n",
       "      <td>518000000</td>\n",
       "      <td>89288.419270</td>\n",
       "      <td>32904.92748</td>\n",
       "      <td>4051.865565</td>\n",
       "      <td>8902.593156</td>\n",
       "      <td>80180.67966</td>\n",
       "    </tr>\n",
       "    <tr>\n",
       "      <th>8</th>\n",
       "      <td>US0000000008</td>\n",
       "      <td>591000000</td>\n",
       "      <td>59887.448370</td>\n",
       "      <td>4408.314004</td>\n",
       "      <td>31232.144810</td>\n",
       "      <td>8838.602818</td>\n",
       "      <td>NaN</td>\n",
       "    </tr>\n",
       "    <tr>\n",
       "      <th>9</th>\n",
       "      <td>US0000000009</td>\n",
       "      <td>664000000</td>\n",
       "      <td>270793.877300</td>\n",
       "      <td>6147.617183</td>\n",
       "      <td>9418.298827</td>\n",
       "      <td>2135.478871</td>\n",
       "      <td>NaN</td>\n",
       "    </tr>\n",
       "    <tr>\n",
       "      <th>10</th>\n",
       "      <td>US0000000010</td>\n",
       "      <td>737000000</td>\n",
       "      <td>436123.894600</td>\n",
       "      <td>61287.84832</td>\n",
       "      <td>9800.114222</td>\n",
       "      <td>45901.306430</td>\n",
       "      <td>NaN</td>\n",
       "    </tr>\n",
       "    <tr>\n",
       "      <th>11</th>\n",
       "      <td>US0000000011</td>\n",
       "      <td>810000000</td>\n",
       "      <td>219384.624100</td>\n",
       "      <td>18766.81362</td>\n",
       "      <td>13746.231470</td>\n",
       "      <td>47047.328130</td>\n",
       "      <td>171647.98800</td>\n",
       "    </tr>\n",
       "    <tr>\n",
       "      <th>12</th>\n",
       "      <td>US0000000012</td>\n",
       "      <td>883000000</td>\n",
       "      <td>907965.017600</td>\n",
       "      <td>11742.15742</td>\n",
       "      <td>15078.189170</td>\n",
       "      <td>3432.989027</td>\n",
       "      <td>NaN</td>\n",
       "    </tr>\n",
       "    <tr>\n",
       "      <th>13</th>\n",
       "      <td>US0000000013</td>\n",
       "      <td>956000000</td>\n",
       "      <td>63194.431200</td>\n",
       "      <td>76353.30911</td>\n",
       "      <td>49.544231</td>\n",
       "      <td>6784.725662</td>\n",
       "      <td>NaN</td>\n",
       "    </tr>\n",
       "    <tr>\n",
       "      <th>14</th>\n",
       "      <td>US0000000014</td>\n",
       "      <td>1029000000</td>\n",
       "      <td>58244.401990</td>\n",
       "      <td>898.263269</td>\n",
       "      <td>903570.757400</td>\n",
       "      <td>2965.056586</td>\n",
       "      <td>NaN</td>\n",
       "    </tr>\n",
       "    <tr>\n",
       "      <th>15</th>\n",
       "      <td>US0000000015</td>\n",
       "      <td>1102000000</td>\n",
       "      <td>9657.810784</td>\n",
       "      <td>NaN</td>\n",
       "      <td>NaN</td>\n",
       "      <td>83257.806210</td>\n",
       "      <td>NaN</td>\n",
       "    </tr>\n",
       "    <tr>\n",
       "      <th>16</th>\n",
       "      <td>US0000000016</td>\n",
       "      <td>1175000000</td>\n",
       "      <td>8939.838130</td>\n",
       "      <td>10044.20882</td>\n",
       "      <td>3664.637195</td>\n",
       "      <td>7357.749640</td>\n",
       "      <td>NaN</td>\n",
       "    </tr>\n",
       "    <tr>\n",
       "      <th>17</th>\n",
       "      <td>US0000000017</td>\n",
       "      <td>1248000000</td>\n",
       "      <td>294541.488600</td>\n",
       "      <td>29398.99459</td>\n",
       "      <td>28384.095470</td>\n",
       "      <td>31341.086530</td>\n",
       "      <td>NaN</td>\n",
       "    </tr>\n",
       "    <tr>\n",
       "      <th>18</th>\n",
       "      <td>US0000000018</td>\n",
       "      <td>1321000000</td>\n",
       "      <td>617044.557000</td>\n",
       "      <td>15389.82384</td>\n",
       "      <td>6266.641717</td>\n",
       "      <td>8289.310471</td>\n",
       "      <td>NaN</td>\n",
       "    </tr>\n",
       "    <tr>\n",
       "      <th>19</th>\n",
       "      <td>US0000000019</td>\n",
       "      <td>1394000000</td>\n",
       "      <td>683013.375700</td>\n",
       "      <td>Inconclusive</td>\n",
       "      <td>3177.824916</td>\n",
       "      <td>9323.292350</td>\n",
       "      <td>NaN</td>\n",
       "    </tr>\n",
       "  </tbody>\n",
       "</table>\n",
       "</div>\n",
       "      <button class=\"colab-df-convert\" onclick=\"convertToInteractive('df-083b7887-6ba4-4a3d-bcc9-0c79876be593')\"\n",
       "              title=\"Convert this dataframe to an interactive table.\"\n",
       "              style=\"display:none;\">\n",
       "        \n",
       "  <svg xmlns=\"http://www.w3.org/2000/svg\" height=\"24px\"viewBox=\"0 0 24 24\"\n",
       "       width=\"24px\">\n",
       "    <path d=\"M0 0h24v24H0V0z\" fill=\"none\"/>\n",
       "    <path d=\"M18.56 5.44l.94 2.06.94-2.06 2.06-.94-2.06-.94-.94-2.06-.94 2.06-2.06.94zm-11 1L8.5 8.5l.94-2.06 2.06-.94-2.06-.94L8.5 2.5l-.94 2.06-2.06.94zm10 10l.94 2.06.94-2.06 2.06-.94-2.06-.94-.94-2.06-.94 2.06-2.06.94z\"/><path d=\"M17.41 7.96l-1.37-1.37c-.4-.4-.92-.59-1.43-.59-.52 0-1.04.2-1.43.59L10.3 9.45l-7.72 7.72c-.78.78-.78 2.05 0 2.83L4 21.41c.39.39.9.59 1.41.59.51 0 1.02-.2 1.41-.59l7.78-7.78 2.81-2.81c.8-.78.8-2.07 0-2.86zM5.41 20L4 18.59l7.72-7.72 1.47 1.35L5.41 20z\"/>\n",
       "  </svg>\n",
       "      </button>\n",
       "      \n",
       "  <style>\n",
       "    .colab-df-container {\n",
       "      display:flex;\n",
       "      flex-wrap:wrap;\n",
       "      gap: 12px;\n",
       "    }\n",
       "\n",
       "    .colab-df-convert {\n",
       "      background-color: #E8F0FE;\n",
       "      border: none;\n",
       "      border-radius: 50%;\n",
       "      cursor: pointer;\n",
       "      display: none;\n",
       "      fill: #1967D2;\n",
       "      height: 32px;\n",
       "      padding: 0 0 0 0;\n",
       "      width: 32px;\n",
       "    }\n",
       "\n",
       "    .colab-df-convert:hover {\n",
       "      background-color: #E2EBFA;\n",
       "      box-shadow: 0px 1px 2px rgba(60, 64, 67, 0.3), 0px 1px 3px 1px rgba(60, 64, 67, 0.15);\n",
       "      fill: #174EA6;\n",
       "    }\n",
       "\n",
       "    [theme=dark] .colab-df-convert {\n",
       "      background-color: #3B4455;\n",
       "      fill: #D2E3FC;\n",
       "    }\n",
       "\n",
       "    [theme=dark] .colab-df-convert:hover {\n",
       "      background-color: #434B5C;\n",
       "      box-shadow: 0px 1px 3px 1px rgba(0, 0, 0, 0.15);\n",
       "      filter: drop-shadow(0px 1px 2px rgba(0, 0, 0, 0.3));\n",
       "      fill: #FFFFFF;\n",
       "    }\n",
       "  </style>\n",
       "\n",
       "      <script>\n",
       "        const buttonEl =\n",
       "          document.querySelector('#df-083b7887-6ba4-4a3d-bcc9-0c79876be593 button.colab-df-convert');\n",
       "        buttonEl.style.display =\n",
       "          google.colab.kernel.accessAllowed ? 'block' : 'none';\n",
       "\n",
       "        async function convertToInteractive(key) {\n",
       "          const element = document.querySelector('#df-083b7887-6ba4-4a3d-bcc9-0c79876be593');\n",
       "          const dataTable =\n",
       "            await google.colab.kernel.invokeFunction('convertToInteractive',\n",
       "                                                     [key], {});\n",
       "          if (!dataTable) return;\n",
       "\n",
       "          const docLinkHtml = 'Like what you see? Visit the ' +\n",
       "            '<a target=\"_blank\" href=https://colab.research.google.com/notebooks/data_table.ipynb>data table notebook</a>'\n",
       "            + ' to learn more about interactive tables.';\n",
       "          element.innerHTML = '';\n",
       "          dataTable['output_type'] = 'display_data';\n",
       "          await google.colab.output.renderOutput(dataTable, element);\n",
       "          const docLink = document.createElement('div');\n",
       "          docLink.innerHTML = docLinkHtml;\n",
       "          element.appendChild(docLink);\n",
       "        }\n",
       "      </script>\n",
       "    </div>\n",
       "  </div>\n",
       "  "
      ],
      "text/plain": [
       "            ISIN  Total_Energy_Use  Total_CO2_Equivalents_Emissions  \\\n",
       "0   US0000000000           7000000                     94972.491980   \n",
       "1   US0000000001          80000000                    306900.619200   \n",
       "2   US0000000002         153000000                    171320.165100   \n",
       "3   US0000000003         226000000                      2250.272892   \n",
       "4   US0000000004         299000000                    132696.737600   \n",
       "5   US0000000005                 0                    204269.386700   \n",
       "6   US0000000006         445000000                     64963.629940   \n",
       "7   US0000000007         518000000                     89288.419270   \n",
       "8   US0000000008         591000000                     59887.448370   \n",
       "9   US0000000009         664000000                    270793.877300   \n",
       "10  US0000000010         737000000                    436123.894600   \n",
       "11  US0000000011         810000000                    219384.624100   \n",
       "12  US0000000012         883000000                    907965.017600   \n",
       "13  US0000000013         956000000                     63194.431200   \n",
       "14  US0000000014        1029000000                     58244.401990   \n",
       "15  US0000000015        1102000000                      9657.810784   \n",
       "16  US0000000016        1175000000                      8939.838130   \n",
       "17  US0000000017        1248000000                    294541.488600   \n",
       "18  US0000000018        1321000000                    617044.557000   \n",
       "19  US0000000019        1394000000                    683013.375700   \n",
       "\n",
       "   Renewable_Energy_Purchased  Renewable_Energy_Produced  Carbon_Credit_Value  \\\n",
       "0                 10576.00479               96652.161150          8171.323352   \n",
       "1                 31961.79405               38372.192100                  NaN   \n",
       "2                 62884.91047               10689.834740         84303.725900   \n",
       "3                 12949.74785                        NaN                  NaN   \n",
       "4                 42559.65263               69567.953660         17515.500000   \n",
       "5                 9991.766644               55829.345030         26647.856000   \n",
       "6                 9515.906056               24720.733080         10556.113590   \n",
       "7                 32904.92748                4051.865565          8902.593156   \n",
       "8                 4408.314004               31232.144810          8838.602818   \n",
       "9                 6147.617183                9418.298827          2135.478871   \n",
       "10                61287.84832                9800.114222         45901.306430   \n",
       "11                18766.81362               13746.231470         47047.328130   \n",
       "12                11742.15742               15078.189170          3432.989027   \n",
       "13                76353.30911                  49.544231          6784.725662   \n",
       "14                 898.263269              903570.757400          2965.056586   \n",
       "15                        NaN                        NaN         83257.806210   \n",
       "16                10044.20882                3664.637195          7357.749640   \n",
       "17                29398.99459               28384.095470         31341.086530   \n",
       "18                15389.82384                6266.641717          8289.310471   \n",
       "19               Inconclusive                3177.824916          9323.292350   \n",
       "\n",
       "    CO2_Analytic  \n",
       "0            NaN  \n",
       "1            NaN  \n",
       "2            NaN  \n",
       "3            NaN  \n",
       "4            NaN  \n",
       "5            NaN  \n",
       "6    53170.89797  \n",
       "7    80180.67966  \n",
       "8            NaN  \n",
       "9            NaN  \n",
       "10           NaN  \n",
       "11  171647.98800  \n",
       "12           NaN  \n",
       "13           NaN  \n",
       "14           NaN  \n",
       "15           NaN  \n",
       "16           NaN  \n",
       "17           NaN  \n",
       "18           NaN  \n",
       "19           NaN  "
      ]
     },
     "execution_count": 201,
     "metadata": {},
     "output_type": "execute_result"
    }
   ],
   "source": [
    "pd.DataFrame([dict(s) for s in carbondata])"
   ]
  },
  {
   "cell_type": "markdown",
   "metadata": {
    "id": "GcF71HI0bJZB"
   },
   "source": [
    "# Validate the data\n",
    "\n",
    "Step 3.\n",
    "\n",
    "Using Pydantic for type checking and any missing but expected data needed by the formula"
   ]
  },
  {
   "cell_type": "code",
   "execution_count": 212,
   "metadata": {
    "id": "iipC6WkJHArG"
   },
   "outputs": [],
   "source": [
    "from pydantic import BaseModel, validator\n",
    "import pandas as pd \n",
    "\n",
    "class CarbonCO2Data(BaseModel):\n",
    "    ISIN: str\n",
    "    Total_Energy_Use: float\n",
    "    Total_CO2_Equivalents_Emissions: float\n",
    "    Renewable_Energy_Purchased: float\n",
    "    Renewable_Energy_Produced: float\n",
    "    Carbon_Credit_Value: float\n",
    "    CO2_Analytic: float"
   ]
  },
  {
   "cell_type": "code",
   "execution_count": 215,
   "metadata": {
    "colab": {
     "base_uri": "https://localhost:8080/"
    },
    "id": "1RFPIjsfg6Dd",
    "outputId": "8d480076-330f-4a0e-9197-876444e16102"
   },
   "outputs": [
    {
     "data": {
      "text/plain": [
       "{'ISIN': 'US0000000006',\n",
       " 'Total_Energy_Use': 445000000,\n",
       " 'Total_CO2_Equivalents_Emissions': 64963.62994,\n",
       " 'Renewable_Energy_Purchased': 9515.906056,\n",
       " 'Renewable_Energy_Produced': 24720.73308,\n",
       " 'Carbon_Credit_Value': 10556.11359,\n",
       " 'CO2_Analytic': 53170.89797}"
      ]
     },
     "execution_count": 215,
     "metadata": {},
     "output_type": "execute_result"
    }
   ],
   "source": [
    "carbondata[6]"
   ]
  },
  {
   "cell_type": "code",
   "execution_count": 226,
   "metadata": {
    "colab": {
     "base_uri": "https://localhost:8080/"
    },
    "id": "pPa__ls7gxjI",
    "outputId": "6eb63dd8-8478-4f49-f37a-99463c343fd5"
   },
   "outputs": [
    {
     "data": {
      "text/plain": [
       "CarbonCO2Data(ISIN='US0000000006', Total_Energy_Use=445000000.0, Total_CO2_Equivalents_Emissions=64963.62994, Renewable_Energy_Purchased=9515.906056, Renewable_Energy_Produced=24720.73308, Carbon_Credit_Value=10556.11359, CO2_Analytic=53170.89797)"
      ]
     },
     "execution_count": 226,
     "metadata": {},
     "output_type": "execute_result"
    }
   ],
   "source": [
    "CarbonCO2Data(**carbondata[6])"
   ]
  },
  {
   "cell_type": "code",
   "execution_count": 240,
   "metadata": {
    "id": "C_vg_x3iCpTH"
   },
   "outputs": [],
   "source": [
    "def validate_df_data(data, model: BaseModel): \n",
    "\n",
    "    good_data = []\n",
    "    bad_data = []\n",
    "    for index,row in enumerate(data): \n",
    "        try:\n",
    "            model(**row)  # unpacks our dictionary \n",
    "            good_data.append(row)  # appends valid data to a new 'good' dictionary\n",
    "            print(f\"Validation good for row {index}\") #debug log\n",
    "        except ValidationError as exc:\n",
    "            row['Errors'] = [error_message['msg'] for error_message in exc.errors()]\n",
    "            row['Error_row_num'] = index \n",
    "            bad_data.append(row)  # appends valid data to a new 'bad' dictionary\n",
    "            print(f\"Encountered validation error when parsing row {index} with {exc} Skipping...\\n\") #debug log \n",
    "          \n",
    "    return (good_data, bad_data)"
   ]
  },
  {
   "cell_type": "code",
   "execution_count": 241,
   "metadata": {
    "colab": {
     "base_uri": "https://localhost:8080/"
    },
    "id": "k3Z61mXmeUou",
    "outputId": "a07e62ca-0a8f-425c-d89e-03620dfa87bf"
   },
   "outputs": [
    {
     "name": "stdout",
     "output_type": "stream",
     "text": [
      "Encountered validation error when parsing row 0 with 1 validation error for CarbonCO2Data\n",
      "CO2_Analytic\n",
      "  field required (type=value_error.missing) Skipping...\n",
      "\n",
      "Encountered validation error when parsing row 1 with 2 validation errors for CarbonCO2Data\n",
      "Carbon_Credit_Value\n",
      "  field required (type=value_error.missing)\n",
      "CO2_Analytic\n",
      "  field required (type=value_error.missing) Skipping...\n",
      "\n",
      "Encountered validation error when parsing row 2 with 1 validation error for CarbonCO2Data\n",
      "CO2_Analytic\n",
      "  field required (type=value_error.missing) Skipping...\n",
      "\n",
      "Encountered validation error when parsing row 3 with 3 validation errors for CarbonCO2Data\n",
      "Renewable_Energy_Produced\n",
      "  none is not an allowed value (type=type_error.none.not_allowed)\n",
      "Carbon_Credit_Value\n",
      "  none is not an allowed value (type=type_error.none.not_allowed)\n",
      "CO2_Analytic\n",
      "  field required (type=value_error.missing) Skipping...\n",
      "\n",
      "Encountered validation error when parsing row 4 with 1 validation error for CarbonCO2Data\n",
      "CO2_Analytic\n",
      "  field required (type=value_error.missing) Skipping...\n",
      "\n",
      "Encountered validation error when parsing row 5 with 1 validation error for CarbonCO2Data\n",
      "CO2_Analytic\n",
      "  field required (type=value_error.missing) Skipping...\n",
      "\n",
      "Validation good for row 6\n",
      "Validation good for row 7\n",
      "Encountered validation error when parsing row 8 with 1 validation error for CarbonCO2Data\n",
      "CO2_Analytic\n",
      "  field required (type=value_error.missing) Skipping...\n",
      "\n",
      "Encountered validation error when parsing row 9 with 1 validation error for CarbonCO2Data\n",
      "CO2_Analytic\n",
      "  field required (type=value_error.missing) Skipping...\n",
      "\n",
      "Encountered validation error when parsing row 10 with 1 validation error for CarbonCO2Data\n",
      "CO2_Analytic\n",
      "  field required (type=value_error.missing) Skipping...\n",
      "\n",
      "Validation good for row 11\n",
      "Encountered validation error when parsing row 12 with 1 validation error for CarbonCO2Data\n",
      "CO2_Analytic\n",
      "  field required (type=value_error.missing) Skipping...\n",
      "\n",
      "Encountered validation error when parsing row 13 with 1 validation error for CarbonCO2Data\n",
      "CO2_Analytic\n",
      "  field required (type=value_error.missing) Skipping...\n",
      "\n",
      "Encountered validation error when parsing row 14 with 1 validation error for CarbonCO2Data\n",
      "CO2_Analytic\n",
      "  field required (type=value_error.missing) Skipping...\n",
      "\n",
      "Encountered validation error when parsing row 15 with 3 validation errors for CarbonCO2Data\n",
      "Renewable_Energy_Purchased\n",
      "  field required (type=value_error.missing)\n",
      "Renewable_Energy_Produced\n",
      "  field required (type=value_error.missing)\n",
      "CO2_Analytic\n",
      "  field required (type=value_error.missing) Skipping...\n",
      "\n",
      "Encountered validation error when parsing row 16 with 1 validation error for CarbonCO2Data\n",
      "CO2_Analytic\n",
      "  field required (type=value_error.missing) Skipping...\n",
      "\n",
      "Encountered validation error when parsing row 17 with 1 validation error for CarbonCO2Data\n",
      "CO2_Analytic\n",
      "  field required (type=value_error.missing) Skipping...\n",
      "\n",
      "Encountered validation error when parsing row 18 with 1 validation error for CarbonCO2Data\n",
      "CO2_Analytic\n",
      "  field required (type=value_error.missing) Skipping...\n",
      "\n",
      "Encountered validation error when parsing row 19 with 2 validation errors for CarbonCO2Data\n",
      "Renewable_Energy_Purchased\n",
      "  value is not a valid float (type=type_error.float)\n",
      "CO2_Analytic\n",
      "  field required (type=value_error.missing) Skipping...\n",
      "\n"
     ]
    }
   ],
   "source": [
    "good_carbon_data, bad_carbon_data = validate_df_data(carbondata,CarbonCO2Data)"
   ]
  },
  {
   "cell_type": "markdown",
   "metadata": {
    "id": "2Dup623jmMHo"
   },
   "source": [
    "# Calculate \n",
    "\n",
    "Step 4\n",
    "\n",
    "Using elements from the Enum constants and detected values in the data"
   ]
  },
  {
   "cell_type": "code",
   "execution_count": 269,
   "metadata": {
    "colab": {
     "base_uri": "https://localhost:8080/"
    },
    "id": "89Emaa-zmLlc",
    "outputId": "76d335b2-1fb1-43f4-ff9a-431b251628fc"
   },
   "outputs": [
    {
     "data": {
      "text/plain": [
       "[{'ISIN': 'US0000000006',\n",
       "  'Total_Energy_Use': 445000000,\n",
       "  'Total_CO2_Equivalents_Emissions': 64963.62994,\n",
       "  'Renewable_Energy_Purchased': 9515.906056,\n",
       "  'Renewable_Energy_Produced': 24720.73308,\n",
       "  'Carbon_Credit_Value': 10556.11359,\n",
       "  'CO2_Analytic': 53170.89797},\n",
       " {'ISIN': 'US0000000007',\n",
       "  'Total_Energy_Use': 518000000,\n",
       "  'Total_CO2_Equivalents_Emissions': 89288.41927,\n",
       "  'Renewable_Energy_Purchased': 32904.92748,\n",
       "  'Renewable_Energy_Produced': 4051.865565,\n",
       "  'Carbon_Credit_Value': 8902.593156,\n",
       "  'CO2_Analytic': 80180.67966},\n",
       " {'ISIN': 'US0000000011',\n",
       "  'Total_Energy_Use': 810000000,\n",
       "  'Total_CO2_Equivalents_Emissions': 219384.6241,\n",
       "  'Renewable_Energy_Purchased': 18766.81362,\n",
       "  'Renewable_Energy_Produced': 13746.23147,\n",
       "  'Carbon_Credit_Value': 47047.32813,\n",
       "  'CO2_Analytic': 171647.988}]"
      ]
     },
     "execution_count": 269,
     "metadata": {},
     "output_type": "execute_result"
    }
   ],
   "source": [
    "good_carbon_data"
   ]
  },
  {
   "cell_type": "code",
   "execution_count": 262,
   "metadata": {
    "colab": {
     "base_uri": "https://localhost:8080/"
    },
    "id": "p6eqg3KCxRMc",
    "outputId": "c4009cda-4a31-4ebc-85c9-3732757cdb05"
   },
   "outputs": [
    {
     "data": {
      "text/plain": [
       "445000000"
      ]
     },
     "execution_count": 262,
     "metadata": {},
     "output_type": "execute_result"
    }
   ],
   "source": [
    "c02data = good_carbon_data[0]\n",
    "c02data['Total_CO2_Equivalents_Emissions']\n",
    "c02data['CO2_Analytic']\n",
    "c02data['Renewable_Energy_Purchased']\n",
    "c02data['Total_Energy_Use']\n",
    "\n",
    "# adjusted = ((c02data['Total_CO2_Equivalents_Emissions'] - co2data['CO2_Analytic'])*(1 - numpy.minimum((Carbonconstants.RUN1.mu_purch*(c02data['Renewable_Energy_Purchased']/c02data['Total_Energy_Use'])),Carbonconstants.RUN1.mu_max_purch))) - (c02data['Renewable_Energy_Produced']Carbonconstants.RUN1.phi_prod)\n",
    "\n"
   ]
  },
  {
   "cell_type": "code",
   "execution_count": null,
   "metadata": {
    "id": "bciawaxsxo-K"
   },
   "outputs": [],
   "source": []
  },
  {
   "cell_type": "code",
   "execution_count": 270,
   "metadata": {
    "id": "dqTSz6omxjsE"
   },
   "outputs": [],
   "source": [
    "adjusted = ((c02data['Total_CO2_Equivalents_Emissions'] - c02data['CO2_Analytic'])*(1 - numpy.minimum((Carbonconstants.RUN1.mu_purch*(c02data['Renewable_Energy_Purchased']/c02data['Total_Energy_Use'])),Carbonconstants.RUN1.mu_max_purch))) - (c02data['Renewable_Energy_Produced']*Carbonconstants.RUN1.phi_prod)\n"
   ]
  },
  {
   "cell_type": "code",
   "execution_count": 271,
   "metadata": {
    "colab": {
     "base_uri": "https://localhost:8080/"
    },
    "id": "huZOIV9Qzfhn",
    "outputId": "9152b523-7c6c-473d-ca06-325529f4e06f"
   },
   "outputs": [
    {
     "data": {
      "text/plain": [
       "10556.569227764528"
      ]
     },
     "execution_count": 271,
     "metadata": {},
     "output_type": "execute_result"
    }
   ],
   "source": [
    "adjusted"
   ]
  },
  {
   "cell_type": "code",
   "execution_count": 289,
   "metadata": {
    "id": "Of8bqYB0pCUw"
   },
   "outputs": [],
   "source": [
    "import numpy\n",
    "def calc_adjtotal_co2_adjusted_emissions(c02data):\n",
    "  adjusted = ((c02data['Total_CO2_Equivalents_Emissions'] - c02data['CO2_Analytic'])*(1 - numpy.minimum((Carbonconstants.RUN1.mu_purch*(c02data['Renewable_Energy_Purchased']/c02data['Total_Energy_Use'])),Carbonconstants.RUN1.mu_max_purch))) - (c02data['Renewable_Energy_Produced']*Carbonconstants.RUN1.phi_prod)\n",
    "  c02data['Adjusted_Total_CO2_Equivalents_Emissions'] = adjusted  \n",
    "  return c02data\n",
    "\n",
    "def validate_df_data(data, model: BaseModel): \n",
    "\n",
    "    good_data = []\n",
    "    bad_data = []\n",
    "    for index,row in enumerate(data): \n",
    "        try:\n",
    "            model(**row)  # unpacks our dictionary \n",
    "            calc_adjtotal_co2_adjusted_emissions(row) # call the adjustment calculation\n",
    "            good_data.append(row)  # appends valid data to a new 'good' dictionary\n",
    "            print(f\"***** Validation good for row {index} ***** \\n\") #debug log\n",
    "            #print(f\"{calc_total_co2_adjusted_emissions(row)}\") debug log\n",
    "        except ValidationError as exc:\n",
    "            row['Errors'] = [error_message['msg'] for error_message in exc.errors()]\n",
    "            row['Error_row_num'] = index \n",
    "            bad_data.append(row)  # appends valid data to a new 'bad' dictionary\n",
    "            print(f\"Encountered validation error when parsing row {index} with {exc} Skipping...\\n\") #debug log \n",
    "          \n",
    "    return (good_data, bad_data)"
   ]
  },
  {
   "cell_type": "code",
   "execution_count": 290,
   "metadata": {
    "colab": {
     "base_uri": "https://localhost:8080/"
    },
    "id": "BoneLaAr0wgs",
    "outputId": "a1da0fa3-a808-44d3-ead3-c44d63a41522"
   },
   "outputs": [
    {
     "name": "stdout",
     "output_type": "stream",
     "text": [
      "Encountered validation error when parsing row 0 with 1 validation error for CarbonCO2Data\n",
      "CO2_Analytic\n",
      "  field required (type=value_error.missing) Skipping...\n",
      "\n",
      "Encountered validation error when parsing row 1 with 2 validation errors for CarbonCO2Data\n",
      "Carbon_Credit_Value\n",
      "  field required (type=value_error.missing)\n",
      "CO2_Analytic\n",
      "  field required (type=value_error.missing) Skipping...\n",
      "\n",
      "Encountered validation error when parsing row 2 with 1 validation error for CarbonCO2Data\n",
      "CO2_Analytic\n",
      "  field required (type=value_error.missing) Skipping...\n",
      "\n",
      "Encountered validation error when parsing row 3 with 3 validation errors for CarbonCO2Data\n",
      "Renewable_Energy_Produced\n",
      "  none is not an allowed value (type=type_error.none.not_allowed)\n",
      "Carbon_Credit_Value\n",
      "  none is not an allowed value (type=type_error.none.not_allowed)\n",
      "CO2_Analytic\n",
      "  field required (type=value_error.missing) Skipping...\n",
      "\n",
      "Encountered validation error when parsing row 4 with 1 validation error for CarbonCO2Data\n",
      "CO2_Analytic\n",
      "  field required (type=value_error.missing) Skipping...\n",
      "\n",
      "Encountered validation error when parsing row 5 with 1 validation error for CarbonCO2Data\n",
      "CO2_Analytic\n",
      "  field required (type=value_error.missing) Skipping...\n",
      "\n",
      "***** Validation good for row 6 ***** \n",
      "\n",
      "***** Validation good for row 7 ***** \n",
      "\n",
      "Encountered validation error when parsing row 8 with 1 validation error for CarbonCO2Data\n",
      "CO2_Analytic\n",
      "  field required (type=value_error.missing) Skipping...\n",
      "\n",
      "Encountered validation error when parsing row 9 with 1 validation error for CarbonCO2Data\n",
      "CO2_Analytic\n",
      "  field required (type=value_error.missing) Skipping...\n",
      "\n",
      "Encountered validation error when parsing row 10 with 1 validation error for CarbonCO2Data\n",
      "CO2_Analytic\n",
      "  field required (type=value_error.missing) Skipping...\n",
      "\n",
      "***** Validation good for row 11 ***** \n",
      "\n",
      "Encountered validation error when parsing row 12 with 1 validation error for CarbonCO2Data\n",
      "CO2_Analytic\n",
      "  field required (type=value_error.missing) Skipping...\n",
      "\n",
      "Encountered validation error when parsing row 13 with 1 validation error for CarbonCO2Data\n",
      "CO2_Analytic\n",
      "  field required (type=value_error.missing) Skipping...\n",
      "\n",
      "Encountered validation error when parsing row 14 with 1 validation error for CarbonCO2Data\n",
      "CO2_Analytic\n",
      "  field required (type=value_error.missing) Skipping...\n",
      "\n",
      "Encountered validation error when parsing row 15 with 3 validation errors for CarbonCO2Data\n",
      "Renewable_Energy_Purchased\n",
      "  field required (type=value_error.missing)\n",
      "Renewable_Energy_Produced\n",
      "  field required (type=value_error.missing)\n",
      "CO2_Analytic\n",
      "  field required (type=value_error.missing) Skipping...\n",
      "\n",
      "Encountered validation error when parsing row 16 with 1 validation error for CarbonCO2Data\n",
      "CO2_Analytic\n",
      "  field required (type=value_error.missing) Skipping...\n",
      "\n",
      "Encountered validation error when parsing row 17 with 1 validation error for CarbonCO2Data\n",
      "CO2_Analytic\n",
      "  field required (type=value_error.missing) Skipping...\n",
      "\n",
      "Encountered validation error when parsing row 18 with 1 validation error for CarbonCO2Data\n",
      "CO2_Analytic\n",
      "  field required (type=value_error.missing) Skipping...\n",
      "\n",
      "Encountered validation error when parsing row 19 with 2 validation errors for CarbonCO2Data\n",
      "Renewable_Energy_Purchased\n",
      "  value is not a valid float (type=type_error.float)\n",
      "CO2_Analytic\n",
      "  field required (type=value_error.missing) Skipping...\n",
      "\n"
     ]
    },
    {
     "data": {
      "text/plain": [
       "([{'ISIN': 'US0000000006',\n",
       "   'Total_Energy_Use': 445000000,\n",
       "   'Total_CO2_Equivalents_Emissions': 64963.62994,\n",
       "   'Renewable_Energy_Purchased': 9515.906056,\n",
       "   'Renewable_Energy_Produced': 24720.73308,\n",
       "   'Carbon_Credit_Value': 10556.11359,\n",
       "   'CO2_Analytic': 53170.89797,\n",
       "   'Adjusted_Total_CO2_Equivalents_Emissions': 10556.569227764528},\n",
       "  {'ISIN': 'US0000000007',\n",
       "   'Total_Energy_Use': 518000000,\n",
       "   'Total_CO2_Equivalents_Emissions': 89288.41927,\n",
       "   'Renewable_Energy_Purchased': 32904.92748,\n",
       "   'Renewable_Energy_Produced': 4051.865565,\n",
       "   'Carbon_Credit_Value': 8902.593156,\n",
       "   'CO2_Analytic': 80180.67966,\n",
       "   'Adjusted_Total_CO2_Equivalents_Emissions': 8904.857056159875},\n",
       "  {'ISIN': 'US0000000011',\n",
       "   'Total_Energy_Use': 810000000,\n",
       "   'Total_CO2_Equivalents_Emissions': 219384.6241,\n",
       "   'Renewable_Energy_Purchased': 18766.81362,\n",
       "   'Renewable_Energy_Produced': 13746.23147,\n",
       "   'Carbon_Credit_Value': 47047.32813,\n",
       "   'CO2_Analytic': 171647.988,\n",
       "   'Adjusted_Total_CO2_Equivalents_Emissions': 47048.771523689764}],\n",
       " [{'ISIN': 'US0000000000',\n",
       "   'Total_Energy_Use': 7000000,\n",
       "   'Total_CO2_Equivalents_Emissions': 94972.49198,\n",
       "   'Renewable_Energy_Purchased': 10576.00479,\n",
       "   'Renewable_Energy_Produced': 96652.16115,\n",
       "   'Carbon_Credit_Value': 8171.323352,\n",
       "   'Errors': ['field required'],\n",
       "   'Error_row_num': 0},\n",
       "  {'ISIN': 'US0000000001',\n",
       "   'Total_Energy_Use': 80000000,\n",
       "   'Total_CO2_Equivalents_Emissions': 306900.6192,\n",
       "   'Renewable_Energy_Purchased': 31961.79405,\n",
       "   'Renewable_Energy_Produced': 38372.1921,\n",
       "   'Errors': ['field required', 'field required'],\n",
       "   'Error_row_num': 1},\n",
       "  {'ISIN': 'US0000000002',\n",
       "   'Total_Energy_Use': 153000000,\n",
       "   'Total_CO2_Equivalents_Emissions': 171320.1651,\n",
       "   'Renewable_Energy_Purchased': 62884.91047,\n",
       "   'Renewable_Energy_Produced': 10689.83474,\n",
       "   'Carbon_Credit_Value': 84303.7259,\n",
       "   'Errors': ['field required'],\n",
       "   'Error_row_num': 2},\n",
       "  {'ISIN': 'US0000000003',\n",
       "   'Total_Energy_Use': 226000000,\n",
       "   'Total_CO2_Equivalents_Emissions': 2250.272892,\n",
       "   'Renewable_Energy_Purchased': 12949.74785,\n",
       "   'Renewable_Energy_Produced': None,\n",
       "   'Carbon_Credit_Value': None,\n",
       "   'Errors': ['none is not an allowed value',\n",
       "    'none is not an allowed value',\n",
       "    'field required'],\n",
       "   'Error_row_num': 3},\n",
       "  {'ISIN': 'US0000000004',\n",
       "   'Total_Energy_Use': 299000000,\n",
       "   'Total_CO2_Equivalents_Emissions': 132696.7376,\n",
       "   'Renewable_Energy_Purchased': 42559.65263,\n",
       "   'Renewable_Energy_Produced': 69567.95366,\n",
       "   'Carbon_Credit_Value': 17515.5,\n",
       "   'Errors': ['field required'],\n",
       "   'Error_row_num': 4},\n",
       "  {'ISIN': 'US0000000005',\n",
       "   'Total_Energy_Use': 0,\n",
       "   'Total_CO2_Equivalents_Emissions': 204269.3867,\n",
       "   'Renewable_Energy_Purchased': 9991.766644,\n",
       "   'Renewable_Energy_Produced': 55829.34503,\n",
       "   'Carbon_Credit_Value': 26647.856,\n",
       "   'Errors': ['field required'],\n",
       "   'Error_row_num': 5},\n",
       "  {'ISIN': 'US0000000008',\n",
       "   'Total_Energy_Use': 591000000,\n",
       "   'Total_CO2_Equivalents_Emissions': 59887.44837,\n",
       "   'Renewable_Energy_Purchased': 4408.314004,\n",
       "   'Renewable_Energy_Produced': 31232.14481,\n",
       "   'Carbon_Credit_Value': 8838.602818,\n",
       "   'Errors': ['field required'],\n",
       "   'Error_row_num': 8},\n",
       "  {'ISIN': 'US0000000009',\n",
       "   'Total_Energy_Use': 664000000,\n",
       "   'Total_CO2_Equivalents_Emissions': 270793.8773,\n",
       "   'Renewable_Energy_Purchased': 6147.617183,\n",
       "   'Renewable_Energy_Produced': 9418.298827,\n",
       "   'Carbon_Credit_Value': 2135.478871,\n",
       "   'Errors': ['field required'],\n",
       "   'Error_row_num': 9},\n",
       "  {'ISIN': 'US0000000010',\n",
       "   'Total_Energy_Use': 737000000,\n",
       "   'Total_CO2_Equivalents_Emissions': 436123.8946,\n",
       "   'Renewable_Energy_Purchased': 61287.84832,\n",
       "   'Renewable_Energy_Produced': 9800.114222,\n",
       "   'Carbon_Credit_Value': 45901.30643,\n",
       "   'Errors': ['field required'],\n",
       "   'Error_row_num': 10},\n",
       "  {'ISIN': 'US0000000012',\n",
       "   'Total_Energy_Use': 883000000,\n",
       "   'Total_CO2_Equivalents_Emissions': 907965.0176,\n",
       "   'Renewable_Energy_Purchased': 11742.15742,\n",
       "   'Renewable_Energy_Produced': 15078.18917,\n",
       "   'Carbon_Credit_Value': 3432.989027,\n",
       "   'Errors': ['field required'],\n",
       "   'Error_row_num': 12},\n",
       "  {'ISIN': 'US0000000013',\n",
       "   'Total_Energy_Use': 956000000,\n",
       "   'Total_CO2_Equivalents_Emissions': 63194.4312,\n",
       "   'Renewable_Energy_Purchased': 76353.30911,\n",
       "   'Renewable_Energy_Produced': 49.54423131,\n",
       "   'Carbon_Credit_Value': 6784.725662,\n",
       "   'Errors': ['field required'],\n",
       "   'Error_row_num': 13},\n",
       "  {'ISIN': 'US0000000014',\n",
       "   'Total_Energy_Use': 1029000000,\n",
       "   'Total_CO2_Equivalents_Emissions': 58244.40199,\n",
       "   'Renewable_Energy_Purchased': 898.2632691,\n",
       "   'Renewable_Energy_Produced': 903570.7574,\n",
       "   'Carbon_Credit_Value': 2965.056586,\n",
       "   'Errors': ['field required'],\n",
       "   'Error_row_num': 14},\n",
       "  {'ISIN': 'US0000000015',\n",
       "   'Total_Energy_Use': 1102000000,\n",
       "   'Total_CO2_Equivalents_Emissions': 9657.810784,\n",
       "   'Carbon_Credit_Value': 83257.80621,\n",
       "   'Errors': ['field required', 'field required', 'field required'],\n",
       "   'Error_row_num': 15},\n",
       "  {'ISIN': 'US0000000016',\n",
       "   'Total_Energy_Use': 1175000000,\n",
       "   'Total_CO2_Equivalents_Emissions': 8939.83813,\n",
       "   'Renewable_Energy_Purchased': 10044.20882,\n",
       "   'Renewable_Energy_Produced': 3664.637195,\n",
       "   'Carbon_Credit_Value': 7357.74964,\n",
       "   'Errors': ['field required'],\n",
       "   'Error_row_num': 16},\n",
       "  {'ISIN': 'US0000000017',\n",
       "   'Total_Energy_Use': 1248000000,\n",
       "   'Total_CO2_Equivalents_Emissions': 294541.4886,\n",
       "   'Renewable_Energy_Purchased': 29398.99459,\n",
       "   'Renewable_Energy_Produced': 28384.09547,\n",
       "   'Carbon_Credit_Value': 31341.08653,\n",
       "   'Errors': ['field required'],\n",
       "   'Error_row_num': 17},\n",
       "  {'ISIN': 'US0000000018',\n",
       "   'Total_Energy_Use': 1321000000,\n",
       "   'Total_CO2_Equivalents_Emissions': 617044.557,\n",
       "   'Renewable_Energy_Purchased': 15389.82384,\n",
       "   'Renewable_Energy_Produced': 6266.641717,\n",
       "   'Carbon_Credit_Value': 8289.310471,\n",
       "   'Errors': ['field required'],\n",
       "   'Error_row_num': 18},\n",
       "  {'ISIN': 'US0000000019',\n",
       "   'Total_Energy_Use': 1394000000,\n",
       "   'Total_CO2_Equivalents_Emissions': 683013.3757,\n",
       "   'Renewable_Energy_Purchased': 'Inconclusive',\n",
       "   'Renewable_Energy_Produced': 3177.824916,\n",
       "   'Carbon_Credit_Value': 9323.29235,\n",
       "   'Errors': ['value is not a valid float', 'field required'],\n",
       "   'Error_row_num': 19}])"
      ]
     },
     "execution_count": 290,
     "metadata": {},
     "output_type": "execute_result"
    }
   ],
   "source": [
    "validate_df_data(carbondata,CarbonCO2Data)"
   ]
  },
  {
   "cell_type": "markdown",
   "metadata": {
    "id": "6wwYfG186aXG"
   },
   "source": [
    "# Step 5. SQL into DB\n",
    "\n",
    "Insert commands into Postgres"
   ]
  },
  {
   "cell_type": "code",
   "execution_count": 292,
   "metadata": {
    "colab": {
     "base_uri": "https://localhost:8080/"
    },
    "id": "1btCgLmC48kB",
    "outputId": "8a53615a-a5eb-4a3a-a92c-03c9c732d2cd"
   },
   "outputs": [
    {
     "data": {
      "text/plain": [
       "dict_keys(['ISIN', 'Total_Energy_Use', 'Total_CO2_Equivalents_Emissions', 'Renewable_Energy_Purchased', 'Renewable_Energy_Produced', 'Carbon_Credit_Value', 'CO2_Analytic', 'Adjusted_Total_CO2_Equivalents_Emissions'])"
      ]
     },
     "execution_count": 292,
     "metadata": {},
     "output_type": "execute_result"
    }
   ],
   "source": [
    "columns = good_carbon_data[0].keys()\n",
    "columns"
   ]
  },
  {
   "cell_type": "code",
   "execution_count": 294,
   "metadata": {
    "colab": {
     "base_uri": "https://localhost:8080/",
     "height": 53
    },
    "id": "5jXclHjn5Bbt",
    "outputId": "de2c1beb-fd35-4583-d712-7872c382717d"
   },
   "outputs": [
    {
     "data": {
      "application/vnd.google.colaboratory.intrinsic+json": {
       "type": "string"
      },
      "text/plain": [
       "'INSERT INTO projects (ISIN,Total_Energy_Use,Total_CO2_Equivalents_Emissions,Renewable_Energy_Purchased,Renewable_Energy_Produced,Carbon_Credit_Value,CO2_Analytic,Adjusted_Total_CO2_Equivalents_Emissions) VALUES %s'"
      ]
     },
     "execution_count": 294,
     "metadata": {},
     "output_type": "execute_result"
    }
   ],
   "source": [
    "query = \"INSERT INTO projects ({}) VALUES %s\".format(','.join(columns))\n",
    "query"
   ]
  },
  {
   "cell_type": "code",
   "execution_count": 296,
   "metadata": {
    "colab": {
     "base_uri": "https://localhost:8080/"
    },
    "id": "MqkVUeBZ5UB5",
    "outputId": "f291f63d-8230-4984-a386-148a114b45ab"
   },
   "outputs": [
    {
     "data": {
      "text/plain": [
       "[['US0000000006',\n",
       "  445000000,\n",
       "  64963.62994,\n",
       "  9515.906056,\n",
       "  24720.73308,\n",
       "  10556.11359,\n",
       "  53170.89797,\n",
       "  10556.569227764528],\n",
       " ['US0000000007',\n",
       "  518000000,\n",
       "  89288.41927,\n",
       "  32904.92748,\n",
       "  4051.865565,\n",
       "  8902.593156,\n",
       "  80180.67966,\n",
       "  8904.857056159875],\n",
       " ['US0000000011',\n",
       "  810000000,\n",
       "  219384.6241,\n",
       "  18766.81362,\n",
       "  13746.23147,\n",
       "  47047.32813,\n",
       "  171647.988,\n",
       "  47048.771523689764]]"
      ]
     },
     "execution_count": 296,
     "metadata": {},
     "output_type": "execute_result"
    }
   ],
   "source": [
    "values = [[value for value in each.values()] for each in good_carbon_data]\n",
    "values"
   ]
  },
  {
   "cell_type": "code",
   "execution_count": 300,
   "metadata": {
    "colab": {
     "base_uri": "https://localhost:8080/"
    },
    "id": "zbGp3oHzoqEB",
    "outputId": "498ab2d1-27d4-4965-9c9a-1b1eeb83a9d7"
   },
   "outputs": [
    {
     "name": "stdout",
     "output_type": "stream",
     "text": [
      "=> Exception upserting - check postgres settings ***** \n",
      "\n"
     ]
    }
   ],
   "source": [
    "import psycopg2\n",
    "from psycopg2.extras import execute_values\n",
    "\n",
    "columns = good_carbon_data[0].keys()\n",
    "query = \"INSERT INTO projects ({}) VALUES %s\".format(','.join(columns))\n",
    "\n",
    "# convert projects values to list of lists\n",
    "values = [[value for value in each.values()] for each in good_carbon_data]\n",
    "\n",
    "# demo cursor only with code to show how to upsert \n",
    "# use execute_values fast exec helper in postgres https://www.psycopg.org/docs/extras.html#psycopg2.extras.execute_values\n",
    "try:\n",
    "  cursor = conn.cursor()\n",
    "  execute_values(cursor, query, values)\n",
    "  cursor.close()\n",
    "  conn.commit()\n",
    "except Exception:\n",
    "  print(f\"=> Exception upserting - check postgres settings ***** \\n\") #debug log \n"
   ]
  },
  {
   "cell_type": "markdown",
   "metadata": {
    "id": "tTLvrbuTBarO"
   },
   "source": [
    "# Concluding Notes\n",
    "\n",
    "The decimal places could need adjusting e.g. two decimal places.\n",
    "\n",
    "There are other ways to validate e.g. pytest.\n",
    "\n",
    "Example TDD patterns if developed into prod code -> https://testdriven.io/blog/modern-tdd/\n"
   ]
  },
  {
   "cell_type": "code",
   "execution_count": null,
   "metadata": {
    "id": "U0aBFfkiCME2"
   },
   "outputs": [],
   "source": []
  }
 ],
 "metadata": {
  "colab": {
   "provenance": []
  },
  "kernelspec": {
   "display_name": "Python 3 (ipykernel)",
   "language": "python",
   "name": "python3"
  },
  "language_info": {
   "codemirror_mode": {
    "name": "ipython",
    "version": 3
   },
   "file_extension": ".py",
   "mimetype": "text/x-python",
   "name": "python",
   "nbconvert_exporter": "python",
   "pygments_lexer": "ipython3",
   "version": "3.10.9"
  }
 },
 "nbformat": 4,
 "nbformat_minor": 4
}

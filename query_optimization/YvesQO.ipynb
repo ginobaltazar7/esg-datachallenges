{
 "cells": [
  {
   "cell_type": "markdown",
   "id": "39d89746-f83a-4be8-9e1f-9878cde4251c",
   "metadata": {},
   "source": [
    "# Query Optimization \n",
    "\n",
    "Exercise to use PostgreSQL schema and tables contained in [data.dmp](/query_optimization/data.dmp?raw=true) to summarize some (E)nvironmental, (S)ocial, (G)overnance, and Total Impact scores for fictitious entities listed on the S&P 500. Your requirements are as follows:\n",
    "* Determine the most efficient method of joining the included `sp500`, `id_map`, and `esg_scores` tables\n",
    "* Create a new `sp500_esg_scores` table that lists all available id, name, and score columns for the S&P 500 constituent entities\n",
    "* Add a `rank` column to the new `sp500_esg_scores` table that ranks the S&P 500 constituent entities by percentile on `total_score` in ascending order\n",
    "* Add a MEDIAN row to the `sp500_esg_scores` table that shows the median value for each score column across the S&P 500 constituents \n",
    "* Make sure that where S&P 500 constituent entities are missing score values they still appear in the `sp500_esg_scores` table and are ranked in the 0 percentile\n",
    "* Suggest a database and ETL architecture if there were a much larger universe of companies eg. 50,000. This universe would be updated on a weekly basis and rankings would need to be recomputed upon update.\n",
    "\n",
    "Outputs a `esg_analysis.dmp` file with the database code to replicate your solution as well as a `query.sql` file containing the SQL query used to produce the `sp500_esg_scores` table."
   ]
  },
  {
   "cell_type": "code",
   "execution_count": 32,
   "id": "3abeab6b-5969-4007-878b-dfe11586a19f",
   "metadata": {},
   "outputs": [
    {
     "name": "stdout",
     "output_type": "stream",
     "text": [
      "Python 3.10.9\n"
     ]
    }
   ],
   "source": [
    "!python --version\n"
   ]
  },
  {
   "cell_type": "code",
   "execution_count": 33,
   "id": "b530a466-5858-45fe-a2b8-a94676a91f6d",
   "metadata": {},
   "outputs": [
    {
     "name": "stdout",
     "output_type": "stream",
     "text": [
      "Package              Version\n",
      "-------------------- -----------\n",
      "anyio                3.5.0\n",
      "appnope              0.1.2\n",
      "argon2-cffi          21.3.0\n",
      "argon2-cffi-bindings 21.2.0\n",
      "asttokens            2.0.5\n",
      "attrs                22.1.0\n",
      "Babel                2.11.0\n",
      "backcall             0.2.0\n",
      "beautifulsoup4       4.11.1\n",
      "bleach               4.1.0\n",
      "brotlipy             0.7.0\n",
      "certifi              2022.12.7\n",
      "cffi                 1.15.1\n",
      "charset-normalizer   2.0.4\n",
      "comm                 0.1.2\n",
      "cryptography         38.0.4\n",
      "debugpy              1.5.1\n",
      "decorator            5.1.1\n",
      "defusedxml           0.7.1\n",
      "entrypoints          0.4\n",
      "executing            0.8.3\n",
      "fastjsonschema       2.16.2\n",
      "flit_core            3.6.0\n",
      "idna                 3.4\n",
      "ipykernel            6.19.2\n",
      "ipython              8.10.0\n",
      "ipython-genutils     0.2.0\n",
      "jedi                 0.18.1\n",
      "Jinja2               3.1.2\n",
      "json5                0.9.6\n",
      "jsonschema           4.17.3\n",
      "jupyter_client       7.4.9\n",
      "jupyter_core         5.2.0\n",
      "jupyter-server       1.23.4\n",
      "jupyterlab           3.5.3\n",
      "jupyterlab-pygments  0.1.2\n",
      "jupyterlab_server    2.19.0\n",
      "lxml                 4.9.1\n",
      "MarkupSafe           2.1.1\n",
      "matplotlib-inline    0.1.6\n",
      "mistune              0.8.4\n",
      "nbclassic            0.5.2\n",
      "nbclient             0.5.13\n",
      "nbconvert            6.5.4\n",
      "nbformat             5.7.0\n",
      "nest-asyncio         1.5.6\n",
      "notebook             6.5.2\n",
      "notebook_shim        0.2.2\n",
      "packaging            22.0\n",
      "pandocfilters        1.5.0\n",
      "parso                0.8.3\n",
      "pexpect              4.8.0\n",
      "pickleshare          0.7.5\n",
      "pip                  22.3.1\n",
      "platformdirs         2.5.2\n",
      "prometheus-client    0.14.1\n",
      "prompt-toolkit       3.0.36\n",
      "psutil               5.9.0\n",
      "psycopg2             2.9.3\n",
      "ptyprocess           0.7.0\n",
      "pure-eval            0.2.2\n",
      "pycparser            2.21\n",
      "Pygments             2.11.2\n",
      "pyOpenSSL            22.0.0\n",
      "pyrsistent           0.18.0\n",
      "PySocks              1.7.1\n",
      "python-dateutil      2.8.2\n",
      "pytz                 2022.7\n",
      "pyzmq                23.2.0\n",
      "requests             2.28.1\n",
      "Send2Trash           1.8.0\n",
      "setuptools           65.6.3\n",
      "six                  1.16.0\n",
      "sniffio              1.2.0\n",
      "soupsieve            2.3.2.post1\n",
      "stack-data           0.2.0\n",
      "terminado            0.17.1\n",
      "tinycss2             1.2.1\n",
      "tomli                2.0.1\n",
      "tornado              6.2\n",
      "traitlets            5.7.1\n",
      "typing_extensions    4.4.0\n",
      "urllib3              1.26.14\n",
      "wcwidth              0.2.5\n",
      "webencodings         0.5.1\n",
      "websocket-client     0.58.0\n",
      "wheel                0.38.4\n"
     ]
    }
   ],
   "source": [
    "!pip list"
   ]
  },
  {
   "cell_type": "markdown",
   "id": "ff3dfa5b-4cae-419a-9cd4-2d5678d1ccd9",
   "metadata": {},
   "source": [
    "# Initiate PostgreSQL \n",
    "\n",
    "Unless already created, connect to Database yvesdb"
   ]
  },
  {
   "cell_type": "code",
   "execution_count": 34,
   "id": "b19b4fee-93e1-4259-896a-3fb404d1ab90",
   "metadata": {},
   "outputs": [],
   "source": [
    "import psycopg2"
   ]
  },
  {
   "cell_type": "code",
   "execution_count": 35,
   "id": "5cb15fd0-151c-4c44-a783-81c928d1c693",
   "metadata": {},
   "outputs": [],
   "source": [
    "try:\n",
    "    conn = psycopg2.connect(\"dbname=postgres\")\n",
    "except:\n",
    "    print(\"Postgres error opening main db\")"
   ]
  },
  {
   "cell_type": "code",
   "execution_count": 36,
   "id": "dd33c998-5450-4ab0-922d-f55ae7b3cb22",
   "metadata": {},
   "outputs": [],
   "source": [
    "conn.autocommit = True\n",
    "cur = conn.cursor()"
   ]
  },
  {
   "cell_type": "code",
   "execution_count": 37,
   "id": "9f959d98-8975-49d6-9fa9-64563b183379",
   "metadata": {},
   "outputs": [
    {
     "name": "stdout",
     "output_type": "stream",
     "text": [
      "DB yvesblue already exists!\n"
     ]
    }
   ],
   "source": [
    "try:\n",
    "    cur.execute(\"CREATE DATABASE yvesblue\")\n",
    "except:\n",
    "    print('DB yvesblue already exists!')\n",
    "\n",
    "conn = psycopg2.connect(\"dbname=yvesblue\")\n",
    "cur = conn.cursor()"
   ]
  },
  {
   "cell_type": "code",
   "execution_count": 38,
   "id": "f56c9a0e-55f2-4c58-9751-01540e26f45d",
   "metadata": {},
   "outputs": [],
   "source": [
    "conn.commit()"
   ]
  },
  {
   "cell_type": "markdown",
   "id": "c99452e9-10c5-4e88-a619-49deee53822e",
   "metadata": {},
   "source": [
    "# Create Table for \"SP500\"\n",
    "instr_id text"
   ]
  },
  {
   "cell_type": "code",
   "execution_count": 12,
   "id": "3afee5c9-a3fb-45f8-a736-5398fb56dc5b",
   "metadata": {},
   "outputs": [
    {
     "name": "stdout",
     "output_type": "stream",
     "text": [
      "Table sp500 either already exists or there is another error\n"
     ]
    }
   ],
   "source": [
    "try:\n",
    "    cur.execute(\"CREATE TABLE sp500(\\\n",
    "                        instr_id TEXT PRIMARY KEY \\\n",
    "                                    )\" \\\n",
    "               ) \n",
    "except:\n",
    "    print('Table sp500 either already exists or there is another error')\n",
    "\n",
    "conn.commit()"
   ]
  },
  {
   "cell_type": "code",
   "execution_count": 13,
   "id": "555b7a4a-5cd5-41a7-8040-17a1db6887dc",
   "metadata": {},
   "outputs": [],
   "source": [
    "cur.execute('SELECT * from \"sp500\"')"
   ]
  },
  {
   "cell_type": "code",
   "execution_count": 41,
   "id": "8db20803-67c0-408f-aa65-b7642ff63936",
   "metadata": {},
   "outputs": [],
   "source": [
    "# print(cur.fetchall()) # for debug"
   ]
  },
  {
   "cell_type": "code",
   "execution_count": 15,
   "id": "08d8a457-c3a3-442f-8786-976ae873dcf2",
   "metadata": {},
   "outputs": [],
   "source": [
    "#drop for testing\n",
    "#cur.execute('DROP TABLE IF EXISTS \"sp500\" CASCADE;')  \n",
    "#conn.commit()"
   ]
  },
  {
   "cell_type": "markdown",
   "id": "ac105e22-e433-4e3a-bc50-b9e01e0bda70",
   "metadata": {},
   "source": [
    "# Create Table for \"ID_MAP\"\n",
    "  id serial,\n",
    "  instr_id text,\n",
    "  name text"
   ]
  },
  {
   "cell_type": "code",
   "execution_count": 16,
   "id": "9825a42e-80af-44d2-8f99-e81f8c4148ea",
   "metadata": {},
   "outputs": [
    {
     "name": "stdout",
     "output_type": "stream",
     "text": [
      "Table id_map either already exists or there is another error\n"
     ]
    }
   ],
   "source": [
    "try:\n",
    "    cur.execute(\"CREATE TABLE id_map(\\\n",
    "                        id SERIAL PRIMARY KEY, \\\n",
    "                        instr_id TEXT NOT NULL, \\\n",
    "                        name TEXT NOT NULL \\\n",
    "                                    )\" \\\n",
    "               ) \n",
    "except:\n",
    "    print('Table id_map either already exists or there is another error')\n",
    "\n",
    "conn.commit()"
   ]
  },
  {
   "cell_type": "code",
   "execution_count": 17,
   "id": "535bfce2-4de5-4376-80ad-7a9ea7e480c1",
   "metadata": {},
   "outputs": [],
   "source": [
    "cur.execute('SELECT * from \"id_map\"')"
   ]
  },
  {
   "cell_type": "code",
   "execution_count": 42,
   "id": "0beb1e91-d45b-4801-a16a-033b03b21348",
   "metadata": {},
   "outputs": [],
   "source": [
    "# print(cur.fetchall())  # for debug"
   ]
  },
  {
   "cell_type": "code",
   "execution_count": 19,
   "id": "1ce83fc8-b447-4c6d-9138-fda368a5a23e",
   "metadata": {},
   "outputs": [],
   "source": [
    "#drop for testing\n",
    "#cur.execute('DROP TABLE IF EXISTS \"id_map\" CASCADE;')  \n"
   ]
  },
  {
   "cell_type": "markdown",
   "id": "8f3538ed-a7df-4d2c-8cda-847d2adabfec",
   "metadata": {},
   "source": [
    "# Create Table for \"ESG_SCORES\"\n",
    " \n",
    "  id serial,\n",
    "  total_score numeric(15,6),\n",
    "  e_score numeric(15,6),\n",
    "  s_score numeric(15,6),\n",
    "  g_score numeric(15,6)"
   ]
  },
  {
   "cell_type": "code",
   "execution_count": 20,
   "id": "b76bb920-cbe1-4792-9582-4d571b6efad0",
   "metadata": {},
   "outputs": [
    {
     "name": "stdout",
     "output_type": "stream",
     "text": [
      "Table esg_scores either already exists or there is another error\n"
     ]
    }
   ],
   "source": [
    "try:\n",
    "    cur.execute(\"CREATE TABLE esg_scores(\\\n",
    "                        id SERIAL PRIMARY KEY, \\\n",
    "                        total_score FLOAT NOT NULL, \\\n",
    "                        e_score FLOAT NOT NULL, \\\n",
    "                        s_score FLOAT NOT NULL, \\\n",
    "                        g_score FLOAT NOT NULL \\\n",
    "                                    )\" \\\n",
    "               ) \n",
    "except:\n",
    "    print('Table esg_scores either already exists or there is another error')\n",
    "\n",
    "conn.commit()"
   ]
  },
  {
   "cell_type": "code",
   "execution_count": 21,
   "id": "1ffbc487-d599-44a6-aaed-26d26903a84f",
   "metadata": {},
   "outputs": [],
   "source": [
    "cur.execute('SELECT * from \"esg_scores\"')"
   ]
  },
  {
   "cell_type": "code",
   "execution_count": 43,
   "id": "2932a679-862a-42d2-af72-05bb327d838d",
   "metadata": {},
   "outputs": [],
   "source": [
    "# print(cur.fetchall()) # for debug"
   ]
  },
  {
   "cell_type": "code",
   "execution_count": 23,
   "id": "c0ad3705-44f9-4b5b-8868-95678ac27c9b",
   "metadata": {},
   "outputs": [],
   "source": [
    "#drop for testing\n",
    "#cur.execute('DROP TABLE IF EXISTS \"esg_scores\" CASCADE;')  "
   ]
  },
  {
   "cell_type": "markdown",
   "id": "d27971f8-0407-4e3d-8868-f46a44ce1188",
   "metadata": {},
   "source": [
    "# Combining the tables\n",
    "\n",
    "SQL Schematic\n",
    "\n",
    "SQL code to build the 'sp500_esg_scores' dataset\n",
    "```\n",
    "with sp500_mapped as\n",
    "(\n",
    "\tselect \n",
    "\t\tid_map.id as id,\n",
    "\t\tsp500.instr_id as instr_id,\n",
    "\t\tid_map.name as name\n",
    "\tfrom sp500\n",
    "\tjoin id_map \n",
    "\ton sp500.instr_id = id_map.instr_id\n",
    "\torder by sp500.instr_id asc\n",
    ")\n",
    "select \n",
    "\tsp500_mapped.id as id,\n",
    "\tsp500_mapped.name as name,\n",
    "\tesg_scores.total_score as total_score,\n",
    "\tesg_scores.e_score as e_score,\n",
    "\tesg_scores.s_score as s_score,\n",
    "\tesg_scores.g_score as g_score,\n",
    "\tPERCENT_RANK() OVER(ORDER BY esg_scores.total_score DESC) as total_score_percentile_rank\n",
    "from sp500_mapped\n",
    "LEFT JOIN esg_scores\n",
    "ON sp500_mapped.id = esg_scores.id \n",
    "ORDER BY total_score_percentile_rank asc\n",
    "```\n",
    "\n",
    "\n",
    "\n",
    "SQL code to build the MEDIAN row \n",
    "```\n",
    "with sp500_with_scores as ( \n",
    "\twith sp500_mapped as\n",
    "\t(\n",
    "\t\tselect \n",
    "\t\t\tid_map.id as id,\n",
    "\t\t\tsp500.instr_id as instr_id,\n",
    "\t\t\tid_map.name as name\n",
    "\t\tfrom sp500\n",
    "\t\tjoin id_map \n",
    "\t\ton sp500.instr_id = id_map.instr_id\n",
    "\t\torder by sp500.instr_id asc\n",
    "\t)\n",
    "\tselect \n",
    "\t\tsp500_mapped.id as id,\n",
    "\t\tsp500_mapped.name as name,\n",
    "\t\tesg_scores.total_score as total_score,\n",
    "\t\tesg_scores.e_score as e_score,\n",
    "\t\tesg_scores.s_score as s_score,\n",
    "\t\tesg_scores.g_score as g_score,\n",
    "\t\tPERCENT_RANK() OVER(ORDER BY esg_scores.total_score DESC) as total_score_percentile_rank\n",
    "\tfrom sp500_mapped\n",
    "\tLEFT JOIN esg_scores\n",
    "\tON sp500_mapped.id = esg_scores.id \n",
    "\tORDER BY total_score_percentile_rank asc\n",
    "),\n",
    "total_score_median as (\n",
    "\tselect \n",
    "\t\t1 as idx,\n",
    "\t\tPERCENTILE_CONT(0.5) WITHIN GROUP (ORDER BY total_score) AS median_total_score\n",
    "\tfrom sp500_with_scores\n",
    "),\n",
    "e_score_median as (\n",
    "\tselect \n",
    "\t\t1 as idx,\n",
    "\t\tPERCENTILE_CONT(0.5) WITHIN GROUP (ORDER BY e_score) AS median_e_score\n",
    "\tfrom sp500_with_scores\n",
    "),\n",
    "s_score_median as (\n",
    "\tselect \n",
    "\t\t1 as idx,\n",
    "\t\tPERCENTILE_CONT(0.5) WITHIN GROUP (ORDER BY s_score) AS median_s_score\n",
    "\tfrom sp500_with_scores\n",
    "),\n",
    "g_score_median as (\n",
    "\tselect \n",
    "\t\t1 as idx,\n",
    "\t\tPERCENTILE_CONT(0.5) WITHIN GROUP (ORDER BY g_score) AS median_g_score\n",
    "\tfrom sp500_with_scores\n",
    ")\n",
    "select \n",
    "\t9999 as id,\n",
    "\t'**** MEDIAN ****' as name,\n",
    "\ttotal_score_median.median_total_score, \n",
    "\te_score_median.median_e_score,\n",
    "\ts_score_median.median_s_score,\n",
    "\tg_score_median.median_g_score,\n",
    "\t0.5000000000000001 as total_score_percentile_rank\n",
    "from total_score_median\n",
    "join e_score_median\n",
    "on total_score_median.idx = e_score_median.idx\n",
    "join s_score_median\n",
    "on total_score_median.idx = s_score_median.idx\n",
    "join g_score_median\n",
    "on total_score_median.idx = g_score_median.idx\n",
    "```\n",
    "\n",
    "References:\n",
    "\n",
    "[Summary Stats using Postgres by Muralidhar](https://towardsdatascience.com/how-to-derive-summary-statistics-using-postgresql-742f3cdc0f44)\n",
    "\n",
    "[Fastest Way to Calculate Median by Bertrand](https://sqlperformance.com/2012/08/t-sql-queries/median)"
   ]
  },
  {
   "cell_type": "markdown",
   "id": "32422765-2575-447b-93ba-a3f7d28f6502",
   "metadata": {},
   "source": [
    "# Create Table for \"sp500_esg_scores\"\n",
    "\n",
    "With the following columns - id, name, total_score, e_score, s_score, g_score, rank"
   ]
  },
  {
   "cell_type": "code",
   "execution_count": 40,
   "id": "042311c1-d069-47d9-8706-299175934094",
   "metadata": {},
   "outputs": [
    {
     "data": {
      "text/plain": [
       "<connection object at 0x10b36d3f0; dsn: 'dbname=yvesblue', closed: 0>"
      ]
     },
     "execution_count": 40,
     "metadata": {},
     "output_type": "execute_result"
    }
   ],
   "source": [
    "conn"
   ]
  },
  {
   "cell_type": "code",
   "execution_count": 87,
   "id": "2d5da0b1-756a-4067-9a62-061b80791f54",
   "metadata": {},
   "outputs": [],
   "source": [
    "try:\n",
    "    cur.execute(\"CREATE TABLE sp500_esg_scores(\\\n",
    "                        id SERIAL PRIMARY KEY, \\\n",
    "                        name TEXT NOT NULL, \\\n",
    "                        total_score FLOAT, \\\n",
    "                        e_score FLOAT, \\\n",
    "                        s_score FLOAT, \\\n",
    "                        g_score FLOAT, \\\n",
    "                        rank FLOAT \\\n",
    "                                    )\" \\\n",
    "               ) \n",
    "except:\n",
    "    print('Table sp500_esg_scores either already exists or there is another error')\n",
    "\n",
    "conn.commit()"
   ]
  },
  {
   "cell_type": "code",
   "execution_count": 88,
   "id": "304c893a-53de-4b7d-8193-adc0494ef2a0",
   "metadata": {},
   "outputs": [],
   "source": [
    "cur.execute('SELECT * from \"sp500_esg_scores\"')"
   ]
  },
  {
   "cell_type": "code",
   "execution_count": 89,
   "id": "dfb5c81c-62c5-4109-a24a-0f72b1b624ee",
   "metadata": {},
   "outputs": [
    {
     "name": "stdout",
     "output_type": "stream",
     "text": [
      "[]\n"
     ]
    }
   ],
   "source": [
    "print(cur.fetchall())"
   ]
  },
  {
   "cell_type": "markdown",
   "id": "573ad39b-5ba8-46ee-a9d3-e022a3d23157",
   "metadata": {},
   "source": [
    "# Insert into sp500_esg_scores"
   ]
  },
  {
   "cell_type": "code",
   "execution_count": 90,
   "id": "cf5f090b-d591-49b4-9671-a2c527e74dc3",
   "metadata": {},
   "outputs": [],
   "source": [
    "# test query\n",
    "try:\n",
    "    cur.execute(\"with sp500_mapped as \\\n",
    "                    ( \\\n",
    "                        select \\\n",
    "                            id_map.id as id, \\\n",
    "                            sp500.instr_id as instr_id, \\\n",
    "                            id_map.name as name \\\n",
    "                        from sp500 \\\n",
    "                        join id_map \\\n",
    "                        on sp500.instr_id = id_map.instr_id \\\n",
    "                        order by sp500.instr_id asc \\\n",
    "                    ) \\\n",
    "                    select \\\n",
    "                        sp500_mapped.id as id, \\\n",
    "                        sp500_mapped.name as name, \\\n",
    "                        esg_scores.total_score as total_score, \\\n",
    "                        esg_scores.e_score as e_score, \\\n",
    "                        esg_scores.s_score as s_score, \\\n",
    "                        esg_scores.g_score as g_score, \\\n",
    "                        PERCENT_RANK() OVER(ORDER BY esg_scores.total_score DESC) as rank \\\n",
    "                    from sp500_mapped \\\n",
    "                    LEFT JOIN esg_scores \\\n",
    "                    ON sp500_mapped.id = esg_scores.id  \\\n",
    "                    ORDER BY rank asc\" \\\n",
    "               )\n",
    "except:\n",
    "    print('Problem querying into sp500_mapped')\n",
    "\n",
    "conn.commit()"
   ]
  },
  {
   "cell_type": "code",
   "execution_count": 84,
   "id": "8a04a2d8-47de-4b25-83c0-dee78d894559",
   "metadata": {},
   "outputs": [],
   "source": [
    "# print(cur.fetchall())  # for debug only"
   ]
  },
  {
   "cell_type": "code",
   "execution_count": 86,
   "id": "5be36fb4-f937-4dac-8bac-26930db4d7ba",
   "metadata": {},
   "outputs": [],
   "source": [
    "conn.commit()"
   ]
  },
  {
   "cell_type": "code",
   "execution_count": 91,
   "id": "6fdffbc6-e8bf-4c9e-9d19-d27326241683",
   "metadata": {},
   "outputs": [],
   "source": [
    "try:\n",
    "    cur.execute(\"WITH sp500_esg_scores_values AS \\\n",
    "                (\\\n",
    "                    with sp500_mapped as \\\n",
    "                    ( \\\n",
    "                        select \\\n",
    "                            id_map.id as id, \\\n",
    "                            sp500.instr_id as instr_id, \\\n",
    "                            id_map.name as name \\\n",
    "                        from sp500 \\\n",
    "                        join id_map \\\n",
    "                        on sp500.instr_id = id_map.instr_id \\\n",
    "                        order by sp500.instr_id asc \\\n",
    "                    ) \\\n",
    "                    select \\\n",
    "                        sp500_mapped.id as id, \\\n",
    "                        sp500_mapped.name as name, \\\n",
    "                        esg_scores.total_score as total_score, \\\n",
    "                        esg_scores.e_score as e_score, \\\n",
    "                        esg_scores.s_score as s_score, \\\n",
    "                        esg_scores.g_score as g_score, \\\n",
    "                        PERCENT_RANK() OVER(ORDER BY esg_scores.total_score DESC) as rank \\\n",
    "                    from sp500_mapped \\\n",
    "                    LEFT JOIN esg_scores \\\n",
    "                    ON sp500_mapped.id = esg_scores.id  \\\n",
    "                    ORDER BY rank asc \\\n",
    "                )\\\n",
    "                INSERT into sp500_esg_scores(id, name, total_score, e_score, s_score, g_score, rank) \\\n",
    "                SELECT id, name, total_score, e_score, s_score, g_score, rank from sp500_esg_scores_values\" \\\n",
    "                )\n",
    "except:\n",
    "    print('Problem inserting into sp500_esg_scores')\n",
    "\n",
    "conn.commit()"
   ]
  },
  {
   "cell_type": "code",
   "execution_count": 92,
   "id": "cfb53de3-b640-4789-bd83-40b9adb2d177",
   "metadata": {},
   "outputs": [],
   "source": [
    "cur.execute('SELECT * from \"sp500_esg_scores\"')"
   ]
  },
  {
   "cell_type": "code",
   "execution_count": 94,
   "id": "e7f6d8e7-0c8c-41a6-b2bd-f5f1c5198126",
   "metadata": {},
   "outputs": [],
   "source": [
    "# print(cur.fetchall()) # debug only"
   ]
  },
  {
   "cell_type": "markdown",
   "id": "71cc059d-eb96-4d56-bef1-acd759abe74c",
   "metadata": {},
   "source": [
    "# Insert Median Row"
   ]
  },
  {
   "cell_type": "code",
   "execution_count": null,
   "id": "02838d79-03d7-4412-a25d-f6b1bea797ea",
   "metadata": {},
   "outputs": [],
   "source": [
    "try:\n",
    "    cur.execute(\"WITH sp500_esg_scores_medians AS \\\n",
    "                (\\\n",
    "                    with sp500_with_scores as \\\n",
    "                    ( \\ \n",
    "                        with sp500_mapped as \\\n",
    "                        (\\\n",
    "                            select \\ \n",
    "                                id_map.id as id, \\\n",
    "                                sp500.instr_id as instr_id, \\\n",
    "                                id_map.name as name \\\n",
    "                            from sp500 \\\n",
    "                            join id_map \\\n",
    "                            on sp500.instr_id = id_map.instr_id \\\n",
    "                            order by sp500.instr_id asc \\\n",
    "                        )\\\n",
    "                    select  \\\n",
    "                        sp500_mapped.id as id, \\\n",
    "                        sp500_mapped.name as name, \\\n",
    "                        esg_scores.total_score as total_score, \\\n",
    "                        esg_scores.e_score as e_score, \\\n",
    "                        esg_scores.s_score as s_score, \\\n",
    "                        esg_scores.g_score as g_score, \\\n",
    "                        PERCENT_RANK() OVER(ORDER BY esg_scores.total_score DESC) as total_score_percentile_rank \\\n",
    "                    from sp500_mapped \\\n",
    "                    LEFT JOIN esg_scores \\\n",
    "                    ON sp500_mapped.id = esg_scores.id \\\n",
    "                    ORDER BY total_score_percentile_rank asc \\\n",
    "                    ),\\\n",
    "                    total_score_median as ( \\\n",
    "                        select \\\n",
    "                            1 as idx, \\\n",
    "                            PERCENTILE_CONT(0.5) WITHIN GROUP (ORDER BY total_score) AS median_total_score \\\n",
    "                        from sp500_with_scores \\\n",
    "                    ), \\\n",
    "                    e_score_median as ( \\\n",
    "                        select \\\n",
    "                            1 as idx, \\\n",
    "                            PERCENTILE_CONT(0.5) WITHIN GROUP (ORDER BY e_score) AS median_e_score \\\n",
    "                        from sp500_with_scores \\\n",
    "                    ), \\\n",
    "                    s_score_median as ( \\\n",
    "                        select \\\n",
    "                            1 as idx, \\\n",
    "                            PERCENTILE_CONT(0.5) WITHIN GROUP (ORDER BY s_score) AS median_s_score \\\n",
    "                        from sp500_with_scores \\\n",
    "                    ), \\\n",
    "                    g_score_median as ( \\\n",
    "                        select \\\n",
    "                            1 as idx, \\\n",
    "                            PERCENTILE_CONT(0.5) WITHIN GROUP (ORDER BY g_score) AS median_g_score \\\n",
    "                    from sp500_with_scores \\\n",
    "                    ) \\\n",
    "                    select \\\n",
    "                        9999 as id, \\\n",
    "                        '**** MEDIAN ****' as name, \\\n",
    "                        total_score_median.median_total_score as total_score, \\\n",
    "                        e_score_median.median_e_score as e_score, \\\n",
    "                        s_score_median.median_s_score as s_score, \\\n",
    "                        g_score_median.median_g_score as g_score, \\\n",
    "                        0.5000000000000001 as rank \\\n",
    "                    from total_score_median \\\n",
    "                    join e_score_median \\\n",
    "                        on total_score_median.idx = e_score_median.idx \\\n",
    "                    join s_score_median \\\n",
    "                        on total_score_median.idx = s_score_median.idx \\\n",
    "                    join g_score_median \\\n",
    "                        on total_score_median.idx = g_score_median.idx \\\n",
    "                )\\\n",
    "                INSERT into sp500_esg_scores(id, name, total_score, e_score, s_score, g_score, rank) \\\n",
    "                SELECT id, name, total_score, e_score, s_score, g_score, rank from sp500_esg_scores_medians\" \\\n",
    "               )\n",
    "except:\n",
    "    print('Problem inserting medians into sp500_esg_scores')\n",
    "conn.commit()"
   ]
  },
  {
   "cell_type": "code",
   "execution_count": 112,
   "id": "1e7a84d5-f6b9-491c-8056-60be370757a7",
   "metadata": {},
   "outputs": [],
   "source": [
    "cur.execute('SELECT * from \"sp500_esg_scores\" where name = \\'**** MEDIAN ****\\'')"
   ]
  },
  {
   "cell_type": "code",
   "execution_count": 113,
   "id": "2dae331b-2a6a-4c41-a90f-921ec8b05868",
   "metadata": {},
   "outputs": [
    {
     "name": "stdout",
     "output_type": "stream",
     "text": [
      "[(9999, '**** MEDIAN ****', 53.015, 49.51, 45.54, 47.69, 0.5)]\n"
     ]
    }
   ],
   "source": [
    "print(cur.fetchall())"
   ]
  },
  {
   "cell_type": "code",
   "execution_count": null,
   "id": "04301fcb-2376-40ce-800d-d6281ffb6418",
   "metadata": {},
   "outputs": [],
   "source": []
  },
  {
   "cell_type": "markdown",
   "id": "5643a694-b266-4369-aee1-0a8711b5dff6",
   "metadata": {},
   "source": [
    "# Closing Note\n",
    "\n",
    "On the question on if there were a much larger universe of companies eg. 50,000, updated on a weekly basis and if rankings would need to be recomputed upon updates, I would offer for consideration:\n",
    "\n",
    "1 - Partitioning the database by the update date of each week, which allows [among benefits](https://www.postgresql.org/docs/current/ddl-partitioning.html) potential increases in query performance, ability to retain newer and/or offload older aging/dated/dump partitions for the sake of saving compute/storage resources, and ease potential [Postgres administration issues](https://onesignal.com/blog/lessons-learned-from-5-years-of-scaling-postgresql/)\n",
    "\n",
    "2 - Consideration of a more [modular ETL architecture](https://www.sqlshack.com/designing-a-modular-etl-architecture/) allowing ability for more loosely coupled pipelines but which requires careful pipeline orchestration and data quality checks to ensure data integrity.\n",
    "\n",
    "3 - For aggregated metrics e.g. medians of the different scores by date partitions, consideration of separate dimension tables to avoid having to run compute expensive queries (ie storage is cheap). [Postgres could be used](https://www.narratordata.com/blog/using-postgresql-as-a-data-warehouse/) however there are other solutions in the market as well. Much of these would depend on cost vs performance tradeoffs."
   ]
  },
  {
   "cell_type": "markdown",
   "id": "8eda4066-e80f-47e5-9a61-ae141b18d4c4",
   "metadata": {},
   "source": [
    "# Screenshots\n",
    "\n",
    "The following are screenshots from running queries on a local Postgres instance."
   ]
  },
  {
   "cell_type": "markdown",
   "id": "4a7a0661-6628-4a00-99fe-5cbf2f752715",
   "metadata": {},
   "source": [
    "![image1](yves_query_test_1.png)"
   ]
  },
  {
   "cell_type": "markdown",
   "id": "ead11856-ebe1-46bd-a394-db46713eb2b0",
   "metadata": {},
   "source": [
    "![image2](yves_query_test_2.png)"
   ]
  },
  {
   "cell_type": "markdown",
   "id": "06d77968-73a8-4ac0-82ce-fdcf1d3697f0",
   "metadata": {},
   "source": [
    "![image3](yves_query_test_3.png)"
   ]
  },
  {
   "cell_type": "markdown",
   "id": "4adfc915-34d9-411f-ab3b-7f4e93bbe148",
   "metadata": {},
   "source": [
    "![image4](yves_query_test_4.png)"
   ]
  },
  {
   "cell_type": "markdown",
   "id": "70957919-2bad-4858-b3bd-efc4d5ed70bf",
   "metadata": {},
   "source": [
    "![image5](yves_query_test_5.png)"
   ]
  },
  {
   "cell_type": "code",
   "execution_count": null,
   "id": "e2390dc6-2e62-4788-b00e-81ab8ff02f02",
   "metadata": {},
   "outputs": [],
   "source": []
  }
 ],
 "metadata": {
  "kernelspec": {
   "display_name": "Python 3 (ipykernel)",
   "language": "python",
   "name": "python3"
  },
  "language_info": {
   "codemirror_mode": {
    "name": "ipython",
    "version": 3
   },
   "file_extension": ".py",
   "mimetype": "text/x-python",
   "name": "python",
   "nbconvert_exporter": "python",
   "pygments_lexer": "ipython3",
   "version": "3.10.9"
  }
 },
 "nbformat": 4,
 "nbformat_minor": 5
}
